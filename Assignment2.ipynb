{
  "nbformat": 4,
  "nbformat_minor": 0,
  "metadata": {
    "colab": {
      "name": "CAP4611Assignment2.ipynb",
      "provenance": [],
      "toc_visible": true,
      "authorship_tag": "ABX9TyPmp4mKAix5A6bISB9DJsLQ",
      "include_colab_link": true
    },
    "kernelspec": {
      "name": "python3",
      "display_name": "Python 3"
    }
  },
  "cells": [
    {
      "cell_type": "markdown",
      "metadata": {
        "id": "view-in-github",
        "colab_type": "text"
      },
      "source": [
        "<a href=\"https://colab.research.google.com/github/bdstel/Machine-Learning/blob/main/Assignment2.ipynb\" target=\"_parent\"><img src=\"https://colab.research.google.com/assets/colab-badge.svg\" alt=\"Open In Colab\"/></a>"
      ]
    },
    {
      "cell_type": "markdown",
      "metadata": {
        "id": "bx26phWLKKMr"
      },
      "source": [
        "Kaggle Username: bradensteller"
      ]
    },
    {
      "cell_type": "code",
      "metadata": {
        "id": "WU4a2dhBNG33"
      },
      "source": [
        "import numpy as np\n",
        "import pandas as pd\n",
        "from matplotlib import pyplot as plt\n",
        "from sklearn.neighbors import KNeighborsClassifier\n",
        "from sklearn.metrics import roc_auc_score, f1_score, accuracy_score\n",
        "from sklearn.model_selection import ParameterGrid, RandomizedSearchCV, GridSearchCV, train_test_split"
      ],
      "execution_count": null,
      "outputs": []
    },
    {
      "cell_type": "code",
      "metadata": {
        "id": "3-HrLAaMN4gg"
      },
      "source": [
        "train_data = pd.read_csv(\"/content/train.csv\").drop(columns = ['id'])\n",
        "test_data = pd.read_csv(\"/content/test.csv\").drop(columns = ['id'])"
      ],
      "execution_count": null,
      "outputs": []
    },
    {
      "cell_type": "code",
      "metadata": {
        "colab": {
          "base_uri": "https://localhost:8080/",
          "height": 419
        },
        "id": "THN592rPNqJu",
        "outputId": "1bf3b268-437c-4087-9a9b-2d43f38e048c"
      },
      "source": [
        "train_data"
      ],
      "execution_count": null,
      "outputs": [
        {
          "output_type": "execute_result",
          "data": {
            "text/html": [
              "<div>\n",
              "<style scoped>\n",
              "    .dataframe tbody tr th:only-of-type {\n",
              "        vertical-align: middle;\n",
              "    }\n",
              "\n",
              "    .dataframe tbody tr th {\n",
              "        vertical-align: top;\n",
              "    }\n",
              "\n",
              "    .dataframe thead th {\n",
              "        text-align: right;\n",
              "    }\n",
              "</style>\n",
              "<table border=\"1\" class=\"dataframe\">\n",
              "  <thead>\n",
              "    <tr style=\"text-align: right;\">\n",
              "      <th></th>\n",
              "      <th>fixed acidity</th>\n",
              "      <th>volatile acidity</th>\n",
              "      <th>citric acid</th>\n",
              "      <th>residual sugar</th>\n",
              "      <th>chlorides</th>\n",
              "      <th>free sulfur dioxide</th>\n",
              "      <th>total sulfur dioxide</th>\n",
              "      <th>density</th>\n",
              "      <th>pH</th>\n",
              "      <th>sulphates</th>\n",
              "      <th>alcohol</th>\n",
              "      <th>quality</th>\n",
              "    </tr>\n",
              "  </thead>\n",
              "  <tbody>\n",
              "    <tr>\n",
              "      <th>0</th>\n",
              "      <td>8.5</td>\n",
              "      <td>0.40</td>\n",
              "      <td>0.40</td>\n",
              "      <td>6.3</td>\n",
              "      <td>0.050</td>\n",
              "      <td>3.0</td>\n",
              "      <td>10.0</td>\n",
              "      <td>0.99566</td>\n",
              "      <td>3.28</td>\n",
              "      <td>0.56</td>\n",
              "      <td>12.0</td>\n",
              "      <td>0</td>\n",
              "    </tr>\n",
              "    <tr>\n",
              "      <th>1</th>\n",
              "      <td>11.5</td>\n",
              "      <td>0.18</td>\n",
              "      <td>0.51</td>\n",
              "      <td>4.0</td>\n",
              "      <td>0.104</td>\n",
              "      <td>4.0</td>\n",
              "      <td>23.0</td>\n",
              "      <td>0.99960</td>\n",
              "      <td>3.28</td>\n",
              "      <td>0.97</td>\n",
              "      <td>10.1</td>\n",
              "      <td>1</td>\n",
              "    </tr>\n",
              "    <tr>\n",
              "      <th>2</th>\n",
              "      <td>8.2</td>\n",
              "      <td>0.34</td>\n",
              "      <td>0.37</td>\n",
              "      <td>1.9</td>\n",
              "      <td>0.057</td>\n",
              "      <td>43.0</td>\n",
              "      <td>74.0</td>\n",
              "      <td>0.99408</td>\n",
              "      <td>3.23</td>\n",
              "      <td>0.81</td>\n",
              "      <td>12.0</td>\n",
              "      <td>1</td>\n",
              "    </tr>\n",
              "    <tr>\n",
              "      <th>3</th>\n",
              "      <td>10.7</td>\n",
              "      <td>0.43</td>\n",
              "      <td>0.39</td>\n",
              "      <td>2.2</td>\n",
              "      <td>0.106</td>\n",
              "      <td>8.0</td>\n",
              "      <td>32.0</td>\n",
              "      <td>0.99860</td>\n",
              "      <td>2.89</td>\n",
              "      <td>0.50</td>\n",
              "      <td>9.6</td>\n",
              "      <td>0</td>\n",
              "    </tr>\n",
              "    <tr>\n",
              "      <th>4</th>\n",
              "      <td>7.6</td>\n",
              "      <td>0.42</td>\n",
              "      <td>0.25</td>\n",
              "      <td>3.9</td>\n",
              "      <td>0.104</td>\n",
              "      <td>28.0</td>\n",
              "      <td>90.0</td>\n",
              "      <td>0.99784</td>\n",
              "      <td>3.15</td>\n",
              "      <td>0.57</td>\n",
              "      <td>9.1</td>\n",
              "      <td>0</td>\n",
              "    </tr>\n",
              "    <tr>\n",
              "      <th>...</th>\n",
              "      <td>...</td>\n",
              "      <td>...</td>\n",
              "      <td>...</td>\n",
              "      <td>...</td>\n",
              "      <td>...</td>\n",
              "      <td>...</td>\n",
              "      <td>...</td>\n",
              "      <td>...</td>\n",
              "      <td>...</td>\n",
              "      <td>...</td>\n",
              "      <td>...</td>\n",
              "      <td>...</td>\n",
              "    </tr>\n",
              "    <tr>\n",
              "      <th>794</th>\n",
              "      <td>6.6</td>\n",
              "      <td>0.96</td>\n",
              "      <td>0.00</td>\n",
              "      <td>1.8</td>\n",
              "      <td>0.082</td>\n",
              "      <td>5.0</td>\n",
              "      <td>16.0</td>\n",
              "      <td>0.99360</td>\n",
              "      <td>3.50</td>\n",
              "      <td>0.44</td>\n",
              "      <td>11.9</td>\n",
              "      <td>1</td>\n",
              "    </tr>\n",
              "    <tr>\n",
              "      <th>795</th>\n",
              "      <td>7.5</td>\n",
              "      <td>0.58</td>\n",
              "      <td>0.56</td>\n",
              "      <td>3.1</td>\n",
              "      <td>0.153</td>\n",
              "      <td>5.0</td>\n",
              "      <td>14.0</td>\n",
              "      <td>0.99476</td>\n",
              "      <td>3.21</td>\n",
              "      <td>1.03</td>\n",
              "      <td>11.6</td>\n",
              "      <td>1</td>\n",
              "    </tr>\n",
              "    <tr>\n",
              "      <th>796</th>\n",
              "      <td>5.6</td>\n",
              "      <td>0.31</td>\n",
              "      <td>0.78</td>\n",
              "      <td>13.9</td>\n",
              "      <td>0.074</td>\n",
              "      <td>23.0</td>\n",
              "      <td>92.0</td>\n",
              "      <td>0.99677</td>\n",
              "      <td>3.39</td>\n",
              "      <td>0.48</td>\n",
              "      <td>10.5</td>\n",
              "      <td>1</td>\n",
              "    </tr>\n",
              "    <tr>\n",
              "      <th>797</th>\n",
              "      <td>8.4</td>\n",
              "      <td>0.62</td>\n",
              "      <td>0.12</td>\n",
              "      <td>1.8</td>\n",
              "      <td>0.072</td>\n",
              "      <td>38.0</td>\n",
              "      <td>46.0</td>\n",
              "      <td>0.99504</td>\n",
              "      <td>3.38</td>\n",
              "      <td>0.89</td>\n",
              "      <td>11.8</td>\n",
              "      <td>1</td>\n",
              "    </tr>\n",
              "    <tr>\n",
              "      <th>798</th>\n",
              "      <td>9.5</td>\n",
              "      <td>0.86</td>\n",
              "      <td>0.26</td>\n",
              "      <td>1.9</td>\n",
              "      <td>0.079</td>\n",
              "      <td>13.0</td>\n",
              "      <td>28.0</td>\n",
              "      <td>0.99712</td>\n",
              "      <td>3.25</td>\n",
              "      <td>0.62</td>\n",
              "      <td>10.0</td>\n",
              "      <td>0</td>\n",
              "    </tr>\n",
              "  </tbody>\n",
              "</table>\n",
              "<p>799 rows × 12 columns</p>\n",
              "</div>"
            ],
            "text/plain": [
              "     fixed acidity  volatile acidity  citric acid  ...  sulphates  alcohol  quality\n",
              "0              8.5              0.40         0.40  ...       0.56     12.0        0\n",
              "1             11.5              0.18         0.51  ...       0.97     10.1        1\n",
              "2              8.2              0.34         0.37  ...       0.81     12.0        1\n",
              "3             10.7              0.43         0.39  ...       0.50      9.6        0\n",
              "4              7.6              0.42         0.25  ...       0.57      9.1        0\n",
              "..             ...               ...          ...  ...        ...      ...      ...\n",
              "794            6.6              0.96         0.00  ...       0.44     11.9        1\n",
              "795            7.5              0.58         0.56  ...       1.03     11.6        1\n",
              "796            5.6              0.31         0.78  ...       0.48     10.5        1\n",
              "797            8.4              0.62         0.12  ...       0.89     11.8        1\n",
              "798            9.5              0.86         0.26  ...       0.62     10.0        0\n",
              "\n",
              "[799 rows x 12 columns]"
            ]
          },
          "metadata": {
            "tags": []
          },
          "execution_count": 4
        }
      ]
    },
    {
      "cell_type": "markdown",
      "metadata": {
        "id": "s7ITjpI-PfB6"
      },
      "source": [
        "---\n",
        "# Missing Values"
      ]
    },
    {
      "cell_type": "code",
      "metadata": {
        "colab": {
          "base_uri": "https://localhost:8080/"
        },
        "id": "kaHS8lLqP1Tf",
        "outputId": "7d27c7ca-d30c-4b38-d039-3f86e2992d86"
      },
      "source": [
        "train_data.info()"
      ],
      "execution_count": null,
      "outputs": [
        {
          "output_type": "stream",
          "text": [
            "<class 'pandas.core.frame.DataFrame'>\n",
            "RangeIndex: 799 entries, 0 to 798\n",
            "Data columns (total 12 columns):\n",
            " #   Column                Non-Null Count  Dtype  \n",
            "---  ------                --------------  -----  \n",
            " 0   fixed acidity         799 non-null    float64\n",
            " 1   volatile acidity      799 non-null    float64\n",
            " 2   citric acid           799 non-null    float64\n",
            " 3   residual sugar        799 non-null    float64\n",
            " 4   chlorides             799 non-null    float64\n",
            " 5   free sulfur dioxide   799 non-null    float64\n",
            " 6   total sulfur dioxide  799 non-null    float64\n",
            " 7   density               799 non-null    float64\n",
            " 8   pH                    799 non-null    float64\n",
            " 9   sulphates             799 non-null    float64\n",
            " 10  alcohol               799 non-null    float64\n",
            " 11  quality               799 non-null    int64  \n",
            "dtypes: float64(11), int64(1)\n",
            "memory usage: 75.0 KB\n"
          ],
          "name": "stdout"
        }
      ]
    },
    {
      "cell_type": "markdown",
      "metadata": {
        "id": "1tbCEtTYQ68u"
      },
      "source": [
        "As shown above, each column has 799 non-null values, meaning that there were no missing values found within the entire data set."
      ]
    },
    {
      "cell_type": "markdown",
      "metadata": {
        "id": "k5dndJBnRK7d"
      },
      "source": [
        "# Outliers"
      ]
    },
    {
      "cell_type": "code",
      "metadata": {
        "colab": {
          "base_uri": "https://localhost:8080/",
          "height": 585
        },
        "id": "IC70w5pVCYNS",
        "outputId": "55a9d79b-2430-4df6-f283-199b8f73885e"
      },
      "source": [
        "train_data.iloc[:, :-1].hist(bins = 60, figsize = (16, 8), grid = False, layout = (3, 4))\n",
        "plt.tight_layout()\n",
        "plt.show()"
      ],
      "execution_count": null,
      "outputs": [
        {
          "output_type": "display_data",
          "data": {
            "image/png": "[encoded data removed]",
            "text/plain": [
              "<Figure size 1152x576 with 12 Axes>"
            ]
          },
          "metadata": {
            "tags": [],
            "needs_background": "light"
          }
        }
      ]
    },
    {
      "cell_type": "markdown",
      "metadata": {
        "id": "K5Ot3sQKSBva"
      },
      "source": [
        "As shown by the histogram plots, much of the data appears to be right-skewed, aside from density and pH which appear to have a normal distribution. This shows that there are a few outliers within the dataset that are really high compared to the rest of the data.\n",
        "\n",
        "In order to keep the effect of these outliers to a minimum, I will clamp the values."
      ]
    },
    {
      "cell_type": "markdown",
      "metadata": {
        "id": "Ky5271YFbZIT"
      },
      "source": [
        "# Data Preprocessing"
      ]
    },
    {
      "cell_type": "code",
      "metadata": {
        "id": "gkgG6vBzSbkv"
      },
      "source": [
        "for column in train_data.iloc[:, :-1]:\n",
        "  q1 = np.percentile(train_data.loc[:, column], 25, interpolation = 'midpoint')\n",
        "  q3 = np.percentile(train_data.loc[:, column], 75, interpolation = 'midpoint')\n",
        "  iqr = q3 - q1\n",
        "  upper = q3 + (iqr * 1.5)\n",
        "  lower = q1 - (iqr * 1.5)\n",
        "  for index, value in enumerate(train_data.loc[:, column]):\n",
        "    if value > upper:\n",
        "      train_data.loc[index, column] = upper\n",
        "    elif value < lower:\n",
        "      train_data.loc[index, column] = lower"
      ],
      "execution_count": null,
      "outputs": []
    },
    {
      "cell_type": "markdown",
      "metadata": {
        "id": "ti2lymTtctpi"
      },
      "source": [
        "Now that the outliers have been clamped, we'll take another look at the histogram plots."
      ]
    },
    {
      "cell_type": "code",
      "metadata": {
        "colab": {
          "base_uri": "https://localhost:8080/",
          "height": 585
        },
        "id": "gDkrOJfzbzxw",
        "outputId": "fc462f64-f845-4d89-d375-a851b6ea6eca"
      },
      "source": [
        "train_data.iloc[:, :-1].hist(bins = 45, figsize = (16, 8), grid = False, layout = (3, 4))\n",
        "plt.tight_layout()\n",
        "plt.show()"
      ],
      "execution_count": null,
      "outputs": [
        {
          "output_type": "display_data",
          "data": {
            "image/png": "[encoded data removed]",
            "text/plain": [
              "<Figure size 1152x576 with 12 Axes>"
            ]
          },
          "metadata": {
            "tags": [],
            "needs_background": "light"
          }
        }
      ]
    },
    {
      "cell_type": "markdown",
      "metadata": {
        "id": "l5_JZMFp0MW7"
      },
      "source": [
        "And just to be sure that clamping didn't affect anything other than the values of the outliers:"
      ]
    },
    {
      "cell_type": "code",
      "metadata": {
        "colab": {
          "base_uri": "https://localhost:8080/"
        },
        "id": "3tKSRVY9zEw1",
        "outputId": "3543e418-0701-4cca-c95f-6eb25d95aad3"
      },
      "source": [
        "train_data.info()"
      ],
      "execution_count": null,
      "outputs": [
        {
          "output_type": "stream",
          "text": [
            "<class 'pandas.core.frame.DataFrame'>\n",
            "RangeIndex: 799 entries, 0 to 798\n",
            "Data columns (total 12 columns):\n",
            " #   Column                Non-Null Count  Dtype  \n",
            "---  ------                --------------  -----  \n",
            " 0   fixed acidity         799 non-null    float64\n",
            " 1   volatile acidity      799 non-null    float64\n",
            " 2   citric acid           799 non-null    float64\n",
            " 3   residual sugar        799 non-null    float64\n",
            " 4   chlorides             799 non-null    float64\n",
            " 5   free sulfur dioxide   799 non-null    float64\n",
            " 6   total sulfur dioxide  799 non-null    float64\n",
            " 7   density               799 non-null    float64\n",
            " 8   pH                    799 non-null    float64\n",
            " 9   sulphates             799 non-null    float64\n",
            " 10  alcohol               799 non-null    float64\n",
            " 11  quality               799 non-null    int64  \n",
            "dtypes: float64(11), int64(1)\n",
            "memory usage: 75.0 KB\n"
          ],
          "name": "stdout"
        }
      ]
    },
    {
      "cell_type": "markdown",
      "metadata": {
        "id": "iBzswxvxbg9d"
      },
      "source": [
        "In order to determine whether I will normalize the data, we need to see whether it will have a positive effect on the outcome. I'll set up a baseline model and use it for the current data and the normalized data to see this difference."
      ]
    },
    {
      "cell_type": "code",
      "metadata": {
        "id": "K9Pty971AA4n"
      },
      "source": [
        "def base_model(data):\n",
        "  X = data.drop(columns = ['quality'])\n",
        "  y = data['quality']\n",
        "\n",
        "  X_train, X_test, y_train, y_test = train_test_split(X, y, test_size = 0.3)\n",
        "\n",
        "  neighbors = KNeighborsClassifier()\n",
        "  neighbors.fit(X_train, y_train)\n",
        "\n",
        "  predict_prob = neighbors.predict_proba(X_test)[:, 1]\n",
        "  predict = neighbors.predict(X_test)\n",
        "\n",
        "  print(\"ROC AUC Score:\", roc_auc_score(y_test, predict_prob))\n",
        "  print(\"F1 Score:\", f1_score(y_test, predict))\n",
        "  print(\"Accuracy Score:\", accuracy_score(y_test, predict))"
      ],
      "execution_count": null,
      "outputs": []
    },
    {
      "cell_type": "markdown",
      "metadata": {
        "id": "PH5-shlxAg8J"
      },
      "source": [
        "First: Using the model on the current set of data"
      ]
    },
    {
      "cell_type": "code",
      "metadata": {
        "colab": {
          "base_uri": "https://localhost:8080/"
        },
        "id": "JG2l6N_CAfKZ",
        "outputId": "c38625ff-f7a6-4ea0-f82d-adeae013ce47"
      },
      "source": [
        "base_model(train_data)"
      ],
      "execution_count": null,
      "outputs": [
        {
          "output_type": "stream",
          "text": [
            "ROC AUC Score: 0.6860198624904508\n",
            "F1 Score: 0.6719999999999999\n",
            "Accuracy Score: 0.6583333333333333\n"
          ],
          "name": "stdout"
        }
      ]
    },
    {
      "cell_type": "markdown",
      "metadata": {
        "id": "kmbyd2WDA8Lt"
      },
      "source": [
        "Now we will test this same model using a normalized version of the data"
      ]
    },
    {
      "cell_type": "code",
      "metadata": {
        "colab": {
          "base_uri": "https://localhost:8080/",
          "height": 419
        },
        "id": "L0vB9UtDBDhj",
        "outputId": "ae8ea0a8-405d-4230-9628-f70b139ecb44"
      },
      "source": [
        "col_max = train_data.max()\n",
        "train_data_max = col_max.max()\n",
        "normalized_data = train_data / train_data_max\n",
        "normalized_data['quality'] = train_data['quality']\n",
        "\n",
        "normalized_data"
      ],
      "execution_count": null,
      "outputs": [
        {
          "output_type": "execute_result",
          "data": {
            "text/html": [
              "<div>\n",
              "<style scoped>\n",
              "    .dataframe tbody tr th:only-of-type {\n",
              "        vertical-align: middle;\n",
              "    }\n",
              "\n",
              "    .dataframe tbody tr th {\n",
              "        vertical-align: top;\n",
              "    }\n",
              "\n",
              "    .dataframe thead th {\n",
              "        text-align: right;\n",
              "    }\n",
              "</style>\n",
              "<table border=\"1\" class=\"dataframe\">\n",
              "  <thead>\n",
              "    <tr style=\"text-align: right;\">\n",
              "      <th></th>\n",
              "      <th>fixed acidity</th>\n",
              "      <th>volatile acidity</th>\n",
              "      <th>citric acid</th>\n",
              "      <th>residual sugar</th>\n",
              "      <th>chlorides</th>\n",
              "      <th>free sulfur dioxide</th>\n",
              "      <th>total sulfur dioxide</th>\n",
              "      <th>density</th>\n",
              "      <th>pH</th>\n",
              "      <th>sulphates</th>\n",
              "      <th>alcohol</th>\n",
              "      <th>quality</th>\n",
              "    </tr>\n",
              "  </thead>\n",
              "  <tbody>\n",
              "    <tr>\n",
              "      <th>0</th>\n",
              "      <td>0.065637</td>\n",
              "      <td>0.003089</td>\n",
              "      <td>0.003089</td>\n",
              "      <td>0.028185</td>\n",
              "      <td>0.000386</td>\n",
              "      <td>0.023166</td>\n",
              "      <td>0.077220</td>\n",
              "      <td>0.007688</td>\n",
              "      <td>0.025328</td>\n",
              "      <td>0.004324</td>\n",
              "      <td>0.092664</td>\n",
              "      <td>0</td>\n",
              "    </tr>\n",
              "    <tr>\n",
              "      <th>1</th>\n",
              "      <td>0.088803</td>\n",
              "      <td>0.001390</td>\n",
              "      <td>0.003938</td>\n",
              "      <td>0.028185</td>\n",
              "      <td>0.000803</td>\n",
              "      <td>0.030888</td>\n",
              "      <td>0.177606</td>\n",
              "      <td>0.007719</td>\n",
              "      <td>0.025328</td>\n",
              "      <td>0.007490</td>\n",
              "      <td>0.077992</td>\n",
              "      <td>1</td>\n",
              "    </tr>\n",
              "    <tr>\n",
              "      <th>2</th>\n",
              "      <td>0.063320</td>\n",
              "      <td>0.002625</td>\n",
              "      <td>0.002857</td>\n",
              "      <td>0.014672</td>\n",
              "      <td>0.000440</td>\n",
              "      <td>0.324324</td>\n",
              "      <td>0.571429</td>\n",
              "      <td>0.007676</td>\n",
              "      <td>0.024942</td>\n",
              "      <td>0.006255</td>\n",
              "      <td>0.092664</td>\n",
              "      <td>1</td>\n",
              "    </tr>\n",
              "    <tr>\n",
              "      <th>3</th>\n",
              "      <td>0.082625</td>\n",
              "      <td>0.003320</td>\n",
              "      <td>0.003012</td>\n",
              "      <td>0.016988</td>\n",
              "      <td>0.000819</td>\n",
              "      <td>0.061776</td>\n",
              "      <td>0.247104</td>\n",
              "      <td>0.007711</td>\n",
              "      <td>0.022587</td>\n",
              "      <td>0.003861</td>\n",
              "      <td>0.074131</td>\n",
              "      <td>0</td>\n",
              "    </tr>\n",
              "    <tr>\n",
              "      <th>4</th>\n",
              "      <td>0.058687</td>\n",
              "      <td>0.003243</td>\n",
              "      <td>0.001931</td>\n",
              "      <td>0.028185</td>\n",
              "      <td>0.000803</td>\n",
              "      <td>0.216216</td>\n",
              "      <td>0.694981</td>\n",
              "      <td>0.007705</td>\n",
              "      <td>0.024324</td>\n",
              "      <td>0.004402</td>\n",
              "      <td>0.070270</td>\n",
              "      <td>0</td>\n",
              "    </tr>\n",
              "    <tr>\n",
              "      <th>...</th>\n",
              "      <td>...</td>\n",
              "      <td>...</td>\n",
              "      <td>...</td>\n",
              "      <td>...</td>\n",
              "      <td>...</td>\n",
              "      <td>...</td>\n",
              "      <td>...</td>\n",
              "      <td>...</td>\n",
              "      <td>...</td>\n",
              "      <td>...</td>\n",
              "      <td>...</td>\n",
              "      <td>...</td>\n",
              "    </tr>\n",
              "    <tr>\n",
              "      <th>794</th>\n",
              "      <td>0.050965</td>\n",
              "      <td>0.007413</td>\n",
              "      <td>0.000000</td>\n",
              "      <td>0.013900</td>\n",
              "      <td>0.000633</td>\n",
              "      <td>0.038610</td>\n",
              "      <td>0.123552</td>\n",
              "      <td>0.007673</td>\n",
              "      <td>0.027027</td>\n",
              "      <td>0.003398</td>\n",
              "      <td>0.091892</td>\n",
              "      <td>1</td>\n",
              "    </tr>\n",
              "    <tr>\n",
              "      <th>795</th>\n",
              "      <td>0.057915</td>\n",
              "      <td>0.004479</td>\n",
              "      <td>0.004324</td>\n",
              "      <td>0.023938</td>\n",
              "      <td>0.000934</td>\n",
              "      <td>0.038610</td>\n",
              "      <td>0.108108</td>\n",
              "      <td>0.007682</td>\n",
              "      <td>0.024788</td>\n",
              "      <td>0.007819</td>\n",
              "      <td>0.089575</td>\n",
              "      <td>1</td>\n",
              "    </tr>\n",
              "    <tr>\n",
              "      <th>796</th>\n",
              "      <td>0.043243</td>\n",
              "      <td>0.002394</td>\n",
              "      <td>0.006023</td>\n",
              "      <td>0.028185</td>\n",
              "      <td>0.000571</td>\n",
              "      <td>0.177606</td>\n",
              "      <td>0.710425</td>\n",
              "      <td>0.007697</td>\n",
              "      <td>0.026178</td>\n",
              "      <td>0.003707</td>\n",
              "      <td>0.081081</td>\n",
              "      <td>1</td>\n",
              "    </tr>\n",
              "    <tr>\n",
              "      <th>797</th>\n",
              "      <td>0.064865</td>\n",
              "      <td>0.004788</td>\n",
              "      <td>0.000927</td>\n",
              "      <td>0.013900</td>\n",
              "      <td>0.000556</td>\n",
              "      <td>0.293436</td>\n",
              "      <td>0.355212</td>\n",
              "      <td>0.007684</td>\n",
              "      <td>0.026100</td>\n",
              "      <td>0.006873</td>\n",
              "      <td>0.091120</td>\n",
              "      <td>1</td>\n",
              "    </tr>\n",
              "    <tr>\n",
              "      <th>798</th>\n",
              "      <td>0.073359</td>\n",
              "      <td>0.006641</td>\n",
              "      <td>0.002008</td>\n",
              "      <td>0.014672</td>\n",
              "      <td>0.000610</td>\n",
              "      <td>0.100386</td>\n",
              "      <td>0.216216</td>\n",
              "      <td>0.007700</td>\n",
              "      <td>0.025097</td>\n",
              "      <td>0.004788</td>\n",
              "      <td>0.077220</td>\n",
              "      <td>0</td>\n",
              "    </tr>\n",
              "  </tbody>\n",
              "</table>\n",
              "<p>799 rows × 12 columns</p>\n",
              "</div>"
            ],
            "text/plain": [
              "     fixed acidity  volatile acidity  citric acid  ...  sulphates   alcohol  quality\n",
              "0         0.065637          0.003089     0.003089  ...   0.004324  0.092664        0\n",
              "1         0.088803          0.001390     0.003938  ...   0.007490  0.077992        1\n",
              "2         0.063320          0.002625     0.002857  ...   0.006255  0.092664        1\n",
              "3         0.082625          0.003320     0.003012  ...   0.003861  0.074131        0\n",
              "4         0.058687          0.003243     0.001931  ...   0.004402  0.070270        0\n",
              "..             ...               ...          ...  ...        ...       ...      ...\n",
              "794       0.050965          0.007413     0.000000  ...   0.003398  0.091892        1\n",
              "795       0.057915          0.004479     0.004324  ...   0.007819  0.089575        1\n",
              "796       0.043243          0.002394     0.006023  ...   0.003707  0.081081        1\n",
              "797       0.064865          0.004788     0.000927  ...   0.006873  0.091120        1\n",
              "798       0.073359          0.006641     0.002008  ...   0.004788  0.077220        0\n",
              "\n",
              "[799 rows x 12 columns]"
            ]
          },
          "metadata": {
            "tags": []
          },
          "execution_count": 14
        }
      ]
    },
    {
      "cell_type": "code",
      "metadata": {
        "colab": {
          "base_uri": "https://localhost:8080/"
        },
        "id": "zHA6HxS0C1qW",
        "outputId": "a3e9e630-2f05-4bc6-dcd8-204a32d2520c"
      },
      "source": [
        "base_model(normalized_data)"
      ],
      "execution_count": null,
      "outputs": [
        {
          "output_type": "stream",
          "text": [
            "ROC AUC Score: 0.6942186088527552\n",
            "F1 Score: 0.6751054852320675\n",
            "Accuracy Score: 0.6791666666666667\n"
          ],
          "name": "stdout"
        }
      ]
    },
    {
      "cell_type": "markdown",
      "metadata": {
        "id": "sdFB_HTlC7ZS"
      },
      "source": [
        "Between both base model functions, the F1 score appeared to improve some of the time when using normalized data over the current data, however the effect appeared to be minimal if at all. Because of this, I will not implement normalization as it does not seem to be necessary."
      ]
    },
    {
      "cell_type": "markdown",
      "metadata": {
        "id": "VtHTV-BNbhyA"
      },
      "source": [
        "# Model Training"
      ]
    },
    {
      "cell_type": "code",
      "metadata": {
        "id": "0PnKHETRH0nV"
      },
      "source": [
        "X = train_data.drop(columns = ['quality'])\n",
        "y = train_data['quality']"
      ],
      "execution_count": null,
      "outputs": []
    },
    {
      "cell_type": "code",
      "metadata": {
        "colab": {
          "base_uri": "https://localhost:8080/"
        },
        "id": "DUjXh1j5bpP_",
        "outputId": "1d1280bf-e43e-4ee6-8b83-c690bd4a1f42"
      },
      "source": [
        "def random_search_hyperparam():\n",
        "  parameters = dict(n_neighbors = np.arange(1, 100),\n",
        "                    weights = ['uniform', 'distance'],\n",
        "                    algorithm = ['auto', 'ball_tree', 'kd_tree', 'brute'],\n",
        "                    p = np.arange(1, 10),\n",
        "                    metric = ['minkowski', 'manhattan', 'euclidean'])\n",
        "\n",
        "  neighbors_cv = RandomizedSearchCV(KNeighborsClassifier(), param_distributions = parameters, cv = 5, n_jobs = -1, scoring = 'f1', n_iter = 100)\n",
        "  neighbors_cv.fit(X, y)\n",
        "\n",
        "  print('Parameters: ', neighbors_cv.best_params_)\n",
        "  print('F1 Score: ', neighbors_cv.best_score_)\n",
        "\n",
        "random_search_hyperparam()"
      ],
      "execution_count": null,
      "outputs": [
        {
          "output_type": "stream",
          "text": [
            "Parameters:  {'weights': 'distance', 'p': 6, 'n_neighbors': 87, 'metric': 'manhattan', 'algorithm': 'kd_tree'}\n",
            "F1 Score:  0.7386562386980672\n"
          ],
          "name": "stdout"
        }
      ]
    },
    {
      "cell_type": "markdown",
      "metadata": {
        "id": "l_XqwGywbsLh"
      },
      "source": [
        "Running the Randomized Search a few times gave me a decent idea of which parameters were better to use than others, which helped me narrow my parameter ranges for the following grid search in order to cut down on runtime."
      ]
    },
    {
      "cell_type": "code",
      "metadata": {
        "colab": {
          "base_uri": "https://localhost:8080/"
        },
        "id": "17_V83MIbsrg",
        "outputId": "8bb0e125-4680-4024-aba4-cc46415e3026"
      },
      "source": [
        "def grid_search_hyperparam():\n",
        "  parameters = dict(n_neighbors = np.arange(70, 90),\n",
        "                    weights = ['distance'],\n",
        "                    algorithm = ['ball_tree', 'kd_tree', 'brute'],\n",
        "                    p = np.arange(1, 10),\n",
        "                    metric = ['minkowski', 'manhattan'])\n",
        "\n",
        "  neighbors_cv = GridSearchCV(KNeighborsClassifier(), param_grid = parameters, scoring = 'f1', n_jobs = -1, cv = 5, verbose = 1)\n",
        "  neighbors_cv.fit(X, y)\n",
        "\n",
        "  print('Parameters: ', neighbors_cv.best_params_)\n",
        "  print('F1 Score: ', neighbors_cv.best_score_)\n",
        "\n",
        "grid_search_hyperparam()"
      ],
      "execution_count": null,
      "outputs": [
        {
          "output_type": "stream",
          "text": [
            "Fitting 5 folds for each of 1080 candidates, totalling 5400 fits\n"
          ],
          "name": "stdout"
        },
        {
          "output_type": "stream",
          "text": [
            "[Parallel(n_jobs=-1)]: Using backend LokyBackend with 2 concurrent workers.\n",
            "[Parallel(n_jobs=-1)]: Done 164 tasks      | elapsed:    6.7s\n",
            "[Parallel(n_jobs=-1)]: Done 764 tasks      | elapsed:   31.4s\n",
            "[Parallel(n_jobs=-1)]: Done 2616 tasks      | elapsed:  1.2min\n",
            "[Parallel(n_jobs=-1)]: Done 4548 tasks      | elapsed:  2.7min\n"
          ],
          "name": "stderr"
        },
        {
          "output_type": "stream",
          "text": [
            "Parameters:  {'algorithm': 'ball_tree', 'metric': 'minkowski', 'n_neighbors': 82, 'p': 1, 'weights': 'distance'}\n",
            "F1 Score:  0.7456519246508946\n"
          ],
          "name": "stdout"
        },
        {
          "output_type": "stream",
          "text": [
            "[Parallel(n_jobs=-1)]: Done 5400 out of 5400 | elapsed:  2.8min finished\n"
          ],
          "name": "stderr"
        }
      ]
    },
    {
      "cell_type": "markdown",
      "metadata": {
        "id": "S5o1nprfbwrP"
      },
      "source": [
        "The Grid Search shows that these are the parameters that gave me the highest F1 Score, thus I will use those parameters when training the model."
      ]
    },
    {
      "cell_type": "code",
      "metadata": {
        "colab": {
          "base_uri": "https://localhost:8080/"
        },
        "id": "BX5x7ewObxqX",
        "outputId": "fa384d9c-4195-4e34-ef5c-333d5e337666"
      },
      "source": [
        "X_train, X_test, y_train, y_test = train_test_split(X, y, test_size = 0.3)\n",
        "\n",
        "neighbors = KNeighborsClassifier(n_neighbors = 82,\n",
        "                                 weights = 'distance',\n",
        "                                 algorithm = 'ball_tree',\n",
        "                                 p = 1)\n",
        "neighbors.fit(X_train, y_train)\n",
        "\n",
        "predict_prob = neighbors.predict_proba(X_test)[:, 1]\n",
        "predict = neighbors.predict(X_test)\n",
        "\n",
        "print(\"ROC AUC Score:\", roc_auc_score(y_test, predict_prob))\n",
        "print(\"F1 Score:\", f1_score(y_test, predict))\n",
        "print(\"Accuracy Score:\", accuracy_score(y_test, predict))"
      ],
      "execution_count": null,
      "outputs": [
        {
          "output_type": "stream",
          "text": [
            "ROC AUC Score: 0.8221958705357144\n",
            "F1 Score: 0.7803030303030303\n",
            "Accuracy Score: 0.7583333333333333\n"
          ],
          "name": "stdout"
        }
      ]
    },
    {
      "cell_type": "markdown",
      "metadata": {
        "id": "PUYJoG_zb3ed"
      },
      "source": [
        "From the training of the model above, these were the highest scores I was able to obtain:\n",
        "\n",
        "ROC AUC: 0.8466629118558153\n",
        "\n",
        "F1: 0.8013937282229965\n",
        "\n",
        "Accuracy: 0.7625"
      ]
    },
    {
      "cell_type": "markdown",
      "metadata": {
        "id": "9xS0WN9gcUVc"
      },
      "source": [
        "# Final Prediction"
      ]
    },
    {
      "cell_type": "code",
      "metadata": {
        "colab": {
          "base_uri": "https://localhost:8080/"
        },
        "id": "-9t-3C6scYky",
        "outputId": "fd6ab9a3-bd1b-4137-c1f5-f4040ba0e465"
      },
      "source": [
        "final_test_X = test_data\n",
        "\n",
        "X = train_data.drop(columns = ['quality'])\n",
        "y = train_data['quality']\n",
        "\n",
        "neighbors.fit(X, y)\n",
        "predictions = neighbors.predict(final_test_X)\n",
        "\n",
        "output = pd.DataFrame({'id': np.arange(0, 800), 'quality': predictions})\n",
        "output = output.set_index('id')\n",
        "print(output)\n",
        "output.to_csv('my_submission.csv')"
      ],
      "execution_count": null,
      "outputs": [
        {
          "output_type": "stream",
          "text": [
            "     quality\n",
            "id          \n",
            "0          0\n",
            "1          0\n",
            "2          0\n",
            "3          1\n",
            "4          1\n",
            "..       ...\n",
            "795        0\n",
            "796        1\n",
            "797        0\n",
            "798        1\n",
            "799        1\n",
            "\n",
            "[800 rows x 1 columns]\n"
          ],
          "name": "stdout"
        }
      ]
    }
  ]
}