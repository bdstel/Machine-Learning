{
  "nbformat": 4,
  "nbformat_minor": 0,
  "metadata": {
    "colab": {
      "name": "Assignment 4.ipynb",
      "provenance": [],
      "authorship_tag": "ABX9TyOWcsAmz/q/1tupcxJZeUKS",
      "include_colab_link": true
    },
    "kernelspec": {
      "name": "python3",
      "display_name": "Python 3"
    },
    "language_info": {
      "name": "python"
    }
  },
  "cells": [
    {
      "cell_type": "markdown",
      "metadata": {
        "id": "view-in-github",
        "colab_type": "text"
      },
      "source": [
        "<a href=\"https://colab.research.google.com/github/bdstel/Machine-Learning/blob/main/Assignment4.ipynb\" target=\"_parent\"><img src=\"https://colab.research.google.com/assets/colab-badge.svg\" alt=\"Open In Colab\"/></a>"
      ]
    },
    {
      "cell_type": "markdown",
      "metadata": {
        "id": "mG8rwvvl1WSa"
      },
      "source": [
        "Kaggle Username: **bradensteller**"
      ]
    },
    {
      "cell_type": "code",
      "metadata": {
        "id": "7wP3GgOg1N0-"
      },
      "source": [
        "import numpy as np\n",
        "import pandas as pd\n",
        "from matplotlib import pyplot as plt\n",
        "from sklearn import preprocessing\n",
        "from sklearn.linear_model import LinearRegression, Ridge, Lasso, ElasticNet\n",
        "from sklearn.metrics import roc_auc_score, f1_score, accuracy_score, mean_squared_error\n",
        "from sklearn.model_selection import ParameterGrid, RandomizedSearchCV, GridSearchCV, train_test_split"
      ],
      "execution_count": null,
      "outputs": []
    },
    {
      "cell_type": "code",
      "metadata": {
        "id": "pBAF3w2g1UMw"
      },
      "source": [
        "train_data = pd.read_csv(\"/content/train.csv\").drop(columns = ['id'])\n",
        "test_data = pd.read_csv(\"/content/test.csv\").drop(columns = ['id'])"
      ],
      "execution_count": null,
      "outputs": []
    },
    {
      "cell_type": "code",
      "metadata": {
        "colab": {
          "base_uri": "https://localhost:8080/",
          "height": 419
        },
        "id": "PBqGsDHp1cZx",
        "outputId": "e6fd7c86-731d-4c26-d901-936b7da8ee43"
      },
      "source": [
        "train_data"
      ],
      "execution_count": null,
      "outputs": [
        {
          "output_type": "execute_result",
          "data": {
            "text/html": [
              "<div>\n",
              "<style scoped>\n",
              "    .dataframe tbody tr th:only-of-type {\n",
              "        vertical-align: middle;\n",
              "    }\n",
              "\n",
              "    .dataframe tbody tr th {\n",
              "        vertical-align: top;\n",
              "    }\n",
              "\n",
              "    .dataframe thead th {\n",
              "        text-align: right;\n",
              "    }\n",
              "</style>\n",
              "<table border=\"1\" class=\"dataframe\">\n",
              "  <thead>\n",
              "    <tr style=\"text-align: right;\">\n",
              "      <th></th>\n",
              "      <th>longitude</th>\n",
              "      <th>latitude</th>\n",
              "      <th>housing_median_age</th>\n",
              "      <th>total_rooms</th>\n",
              "      <th>total_bedrooms</th>\n",
              "      <th>population</th>\n",
              "      <th>households</th>\n",
              "      <th>median_income</th>\n",
              "      <th>ocean_proximity</th>\n",
              "      <th>median_house_value</th>\n",
              "    </tr>\n",
              "  </thead>\n",
              "  <tbody>\n",
              "    <tr>\n",
              "      <th>0</th>\n",
              "      <td>-122.22</td>\n",
              "      <td>37.77</td>\n",
              "      <td>40.0</td>\n",
              "      <td>494.0</td>\n",
              "      <td>114.0</td>\n",
              "      <td>547.0</td>\n",
              "      <td>135.0</td>\n",
              "      <td>2.8015</td>\n",
              "      <td>NEAR BAY</td>\n",
              "      <td>114800.0</td>\n",
              "    </tr>\n",
              "    <tr>\n",
              "      <th>1</th>\n",
              "      <td>-122.29</td>\n",
              "      <td>37.76</td>\n",
              "      <td>18.0</td>\n",
              "      <td>2873.0</td>\n",
              "      <td>763.0</td>\n",
              "      <td>1243.0</td>\n",
              "      <td>663.0</td>\n",
              "      <td>5.1702</td>\n",
              "      <td>NEAR BAY</td>\n",
              "      <td>265400.0</td>\n",
              "    </tr>\n",
              "    <tr>\n",
              "      <th>2</th>\n",
              "      <td>-118.48</td>\n",
              "      <td>34.23</td>\n",
              "      <td>29.0</td>\n",
              "      <td>3354.0</td>\n",
              "      <td>707.0</td>\n",
              "      <td>1752.0</td>\n",
              "      <td>650.0</td>\n",
              "      <td>4.5484</td>\n",
              "      <td>&lt;1H OCEAN</td>\n",
              "      <td>239900.0</td>\n",
              "    </tr>\n",
              "    <tr>\n",
              "      <th>3</th>\n",
              "      <td>-122.19</td>\n",
              "      <td>37.80</td>\n",
              "      <td>48.0</td>\n",
              "      <td>1694.0</td>\n",
              "      <td>259.0</td>\n",
              "      <td>610.0</td>\n",
              "      <td>238.0</td>\n",
              "      <td>4.7440</td>\n",
              "      <td>NEAR BAY</td>\n",
              "      <td>257300.0</td>\n",
              "    </tr>\n",
              "    <tr>\n",
              "      <th>4</th>\n",
              "      <td>-121.93</td>\n",
              "      <td>36.63</td>\n",
              "      <td>33.0</td>\n",
              "      <td>1740.0</td>\n",
              "      <td>342.0</td>\n",
              "      <td>638.0</td>\n",
              "      <td>329.0</td>\n",
              "      <td>3.1912</td>\n",
              "      <td>NEAR OCEAN</td>\n",
              "      <td>319800.0</td>\n",
              "    </tr>\n",
              "    <tr>\n",
              "      <th>...</th>\n",
              "      <td>...</td>\n",
              "      <td>...</td>\n",
              "      <td>...</td>\n",
              "      <td>...</td>\n",
              "      <td>...</td>\n",
              "      <td>...</td>\n",
              "      <td>...</td>\n",
              "      <td>...</td>\n",
              "      <td>...</td>\n",
              "      <td>...</td>\n",
              "    </tr>\n",
              "    <tr>\n",
              "      <th>10315</th>\n",
              "      <td>-117.79</td>\n",
              "      <td>33.70</td>\n",
              "      <td>16.0</td>\n",
              "      <td>1416.0</td>\n",
              "      <td>249.0</td>\n",
              "      <td>636.0</td>\n",
              "      <td>244.0</td>\n",
              "      <td>5.1741</td>\n",
              "      <td>&lt;1H OCEAN</td>\n",
              "      <td>227700.0</td>\n",
              "    </tr>\n",
              "    <tr>\n",
              "      <th>10316</th>\n",
              "      <td>-117.41</td>\n",
              "      <td>33.95</td>\n",
              "      <td>37.0</td>\n",
              "      <td>1586.0</td>\n",
              "      <td>283.0</td>\n",
              "      <td>675.0</td>\n",
              "      <td>305.0</td>\n",
              "      <td>2.9583</td>\n",
              "      <td>INLAND</td>\n",
              "      <td>132100.0</td>\n",
              "    </tr>\n",
              "    <tr>\n",
              "      <th>10317</th>\n",
              "      <td>-118.65</td>\n",
              "      <td>34.20</td>\n",
              "      <td>23.0</td>\n",
              "      <td>7480.0</td>\n",
              "      <td>1084.0</td>\n",
              "      <td>3037.0</td>\n",
              "      <td>1058.0</td>\n",
              "      <td>6.9223</td>\n",
              "      <td>&lt;1H OCEAN</td>\n",
              "      <td>338400.0</td>\n",
              "    </tr>\n",
              "    <tr>\n",
              "      <th>10318</th>\n",
              "      <td>-118.00</td>\n",
              "      <td>34.12</td>\n",
              "      <td>37.0</td>\n",
              "      <td>1340.0</td>\n",
              "      <td>325.0</td>\n",
              "      <td>928.0</td>\n",
              "      <td>333.0</td>\n",
              "      <td>3.9219</td>\n",
              "      <td>INLAND</td>\n",
              "      <td>175000.0</td>\n",
              "    </tr>\n",
              "    <tr>\n",
              "      <th>10319</th>\n",
              "      <td>-117.04</td>\n",
              "      <td>32.75</td>\n",
              "      <td>36.0</td>\n",
              "      <td>2297.0</td>\n",
              "      <td>418.0</td>\n",
              "      <td>1070.0</td>\n",
              "      <td>392.0</td>\n",
              "      <td>3.5192</td>\n",
              "      <td>NEAR OCEAN</td>\n",
              "      <td>144000.0</td>\n",
              "    </tr>\n",
              "  </tbody>\n",
              "</table>\n",
              "<p>10320 rows × 10 columns</p>\n",
              "</div>"
            ],
            "text/plain": [
              "       longitude  latitude  ...  ocean_proximity  median_house_value\n",
              "0        -122.22     37.77  ...         NEAR BAY            114800.0\n",
              "1        -122.29     37.76  ...         NEAR BAY            265400.0\n",
              "2        -118.48     34.23  ...        <1H OCEAN            239900.0\n",
              "3        -122.19     37.80  ...         NEAR BAY            257300.0\n",
              "4        -121.93     36.63  ...       NEAR OCEAN            319800.0\n",
              "...          ...       ...  ...              ...                 ...\n",
              "10315    -117.79     33.70  ...        <1H OCEAN            227700.0\n",
              "10316    -117.41     33.95  ...           INLAND            132100.0\n",
              "10317    -118.65     34.20  ...        <1H OCEAN            338400.0\n",
              "10318    -118.00     34.12  ...           INLAND            175000.0\n",
              "10319    -117.04     32.75  ...       NEAR OCEAN            144000.0\n",
              "\n",
              "[10320 rows x 10 columns]"
            ]
          },
          "metadata": {
            "tags": []
          },
          "execution_count": 4
        }
      ]
    },
    {
      "cell_type": "markdown",
      "metadata": {
        "id": "0bUGKXDWV6vA"
      },
      "source": [
        "This is not necessary for the assignment, but I want to plot the longitude and latitude on a scatterplot to see if it forms the shape of any notable place."
      ]
    },
    {
      "cell_type": "code",
      "metadata": {
        "colab": {
          "base_uri": "https://localhost:8080/",
          "height": 490
        },
        "id": "tKBIs4UMWQKd",
        "outputId": "46efeeac-2311-437c-c5ce-4694ea9ad31b"
      },
      "source": [
        "train_data.plot.scatter('longitude', 'latitude', figsize = (6, 8), c='median_house_value', colormap='plasma')"
      ],
      "execution_count": null,
      "outputs": [
        {
          "output_type": "execute_result",
          "data": {
            "text/plain": [
              "<matplotlib.axes._subplots.AxesSubplot at 0x7fa7a621c1d0>"
            ]
          },
          "metadata": {
            "tags": []
          },
          "execution_count": 19
        },
        {
          "output_type": "display_data",
          "data": {
            "image/png": "[encoded data removed]",
            "text/plain": [
              "<Figure size 432x576 with 2 Axes>"
            ]
          },
          "metadata": {
            "tags": [],
            "needs_background": "light"
          }
        }
      ]
    },
    {
      "cell_type": "markdown",
      "metadata": {
        "id": "NYZtD3LT2HXc"
      },
      "source": [
        "---\n",
        "# ***Data Manipulation***\n",
        "---\n",
        "\n"
      ]
    },
    {
      "cell_type": "markdown",
      "metadata": {
        "id": "QpZ-yacK13Ye"
      },
      "source": [
        "# Missing Values"
      ]
    },
    {
      "cell_type": "code",
      "metadata": {
        "colab": {
          "base_uri": "https://localhost:8080/"
        },
        "id": "fNi410QU1_Pz",
        "outputId": "bfe6f41b-2678-4923-b2e8-6765ef635706"
      },
      "source": [
        "train_data.info()"
      ],
      "execution_count": null,
      "outputs": [
        {
          "output_type": "stream",
          "text": [
            "<class 'pandas.core.frame.DataFrame'>\n",
            "RangeIndex: 10320 entries, 0 to 10319\n",
            "Data columns (total 10 columns):\n",
            " #   Column              Non-Null Count  Dtype  \n",
            "---  ------              --------------  -----  \n",
            " 0   longitude           10320 non-null  float64\n",
            " 1   latitude            10320 non-null  float64\n",
            " 2   housing_median_age  10320 non-null  float64\n",
            " 3   total_rooms         10320 non-null  float64\n",
            " 4   total_bedrooms      10210 non-null  float64\n",
            " 5   population          10320 non-null  float64\n",
            " 6   households          10320 non-null  float64\n",
            " 7   median_income       10320 non-null  float64\n",
            " 8   ocean_proximity     10320 non-null  object \n",
            " 9   median_house_value  10320 non-null  float64\n",
            "dtypes: float64(9), object(1)\n",
            "memory usage: 806.4+ KB\n"
          ],
          "name": "stdout"
        }
      ]
    },
    {
      "cell_type": "markdown",
      "metadata": {
        "id": "dgqrSKOK1_pI"
      },
      "source": [
        "There are 110 null values within the **total_bedrooms** column."
      ]
    },
    {
      "cell_type": "code",
      "metadata": {
        "colab": {
          "base_uri": "https://localhost:8080/",
          "height": 419
        },
        "id": "VtPMyFnKEkVj",
        "outputId": "4061efff-102e-4a50-ba51-0fa6bc632961"
      },
      "source": [
        "train_data[train_data['total_bedrooms'].isnull()]"
      ],
      "execution_count": null,
      "outputs": [
        {
          "output_type": "execute_result",
          "data": {
            "text/html": [
              "<div>\n",
              "<style scoped>\n",
              "    .dataframe tbody tr th:only-of-type {\n",
              "        vertical-align: middle;\n",
              "    }\n",
              "\n",
              "    .dataframe tbody tr th {\n",
              "        vertical-align: top;\n",
              "    }\n",
              "\n",
              "    .dataframe thead th {\n",
              "        text-align: right;\n",
              "    }\n",
              "</style>\n",
              "<table border=\"1\" class=\"dataframe\">\n",
              "  <thead>\n",
              "    <tr style=\"text-align: right;\">\n",
              "      <th></th>\n",
              "      <th>longitude</th>\n",
              "      <th>latitude</th>\n",
              "      <th>housing_median_age</th>\n",
              "      <th>total_rooms</th>\n",
              "      <th>total_bedrooms</th>\n",
              "      <th>population</th>\n",
              "      <th>households</th>\n",
              "      <th>median_income</th>\n",
              "      <th>ocean_proximity</th>\n",
              "      <th>median_house_value</th>\n",
              "    </tr>\n",
              "  </thead>\n",
              "  <tbody>\n",
              "    <tr>\n",
              "      <th>34</th>\n",
              "      <td>-120.32</td>\n",
              "      <td>37.29</td>\n",
              "      <td>38.0</td>\n",
              "      <td>576.0</td>\n",
              "      <td>NaN</td>\n",
              "      <td>478.0</td>\n",
              "      <td>112.0</td>\n",
              "      <td>2.3382</td>\n",
              "      <td>INLAND</td>\n",
              "      <td>59600.0</td>\n",
              "    </tr>\n",
              "    <tr>\n",
              "      <th>86</th>\n",
              "      <td>-118.31</td>\n",
              "      <td>34.09</td>\n",
              "      <td>37.0</td>\n",
              "      <td>773.0</td>\n",
              "      <td>NaN</td>\n",
              "      <td>835.0</td>\n",
              "      <td>312.0</td>\n",
              "      <td>1.8576</td>\n",
              "      <td>&lt;1H OCEAN</td>\n",
              "      <td>193800.0</td>\n",
              "    </tr>\n",
              "    <tr>\n",
              "      <th>294</th>\n",
              "      <td>-122.14</td>\n",
              "      <td>37.67</td>\n",
              "      <td>37.0</td>\n",
              "      <td>3342.0</td>\n",
              "      <td>NaN</td>\n",
              "      <td>1635.0</td>\n",
              "      <td>557.0</td>\n",
              "      <td>4.7933</td>\n",
              "      <td>NEAR BAY</td>\n",
              "      <td>186900.0</td>\n",
              "    </tr>\n",
              "    <tr>\n",
              "      <th>312</th>\n",
              "      <td>-118.12</td>\n",
              "      <td>34.08</td>\n",
              "      <td>35.0</td>\n",
              "      <td>2248.0</td>\n",
              "      <td>NaN</td>\n",
              "      <td>1762.0</td>\n",
              "      <td>622.0</td>\n",
              "      <td>3.0000</td>\n",
              "      <td>&lt;1H OCEAN</td>\n",
              "      <td>253900.0</td>\n",
              "    </tr>\n",
              "    <tr>\n",
              "      <th>328</th>\n",
              "      <td>-122.70</td>\n",
              "      <td>38.35</td>\n",
              "      <td>14.0</td>\n",
              "      <td>2313.0</td>\n",
              "      <td>NaN</td>\n",
              "      <td>954.0</td>\n",
              "      <td>397.0</td>\n",
              "      <td>3.7813</td>\n",
              "      <td>&lt;1H OCEAN</td>\n",
              "      <td>146500.0</td>\n",
              "    </tr>\n",
              "    <tr>\n",
              "      <th>...</th>\n",
              "      <td>...</td>\n",
              "      <td>...</td>\n",
              "      <td>...</td>\n",
              "      <td>...</td>\n",
              "      <td>...</td>\n",
              "      <td>...</td>\n",
              "      <td>...</td>\n",
              "      <td>...</td>\n",
              "      <td>...</td>\n",
              "      <td>...</td>\n",
              "    </tr>\n",
              "    <tr>\n",
              "      <th>9924</th>\n",
              "      <td>-116.66</td>\n",
              "      <td>32.79</td>\n",
              "      <td>13.0</td>\n",
              "      <td>843.0</td>\n",
              "      <td>NaN</td>\n",
              "      <td>918.0</td>\n",
              "      <td>152.0</td>\n",
              "      <td>6.2152</td>\n",
              "      <td>&lt;1H OCEAN</td>\n",
              "      <td>240600.0</td>\n",
              "    </tr>\n",
              "    <tr>\n",
              "      <th>9967</th>\n",
              "      <td>-118.27</td>\n",
              "      <td>34.17</td>\n",
              "      <td>52.0</td>\n",
              "      <td>2010.0</td>\n",
              "      <td>NaN</td>\n",
              "      <td>908.0</td>\n",
              "      <td>326.0</td>\n",
              "      <td>6.9135</td>\n",
              "      <td>&lt;1H OCEAN</td>\n",
              "      <td>374000.0</td>\n",
              "    </tr>\n",
              "    <tr>\n",
              "      <th>10001</th>\n",
              "      <td>-117.28</td>\n",
              "      <td>34.26</td>\n",
              "      <td>18.0</td>\n",
              "      <td>3895.0</td>\n",
              "      <td>NaN</td>\n",
              "      <td>1086.0</td>\n",
              "      <td>375.0</td>\n",
              "      <td>3.3672</td>\n",
              "      <td>INLAND</td>\n",
              "      <td>133600.0</td>\n",
              "    </tr>\n",
              "    <tr>\n",
              "      <th>10023</th>\n",
              "      <td>-118.43</td>\n",
              "      <td>34.20</td>\n",
              "      <td>28.0</td>\n",
              "      <td>3386.0</td>\n",
              "      <td>NaN</td>\n",
              "      <td>2240.0</td>\n",
              "      <td>737.0</td>\n",
              "      <td>3.0221</td>\n",
              "      <td>&lt;1H OCEAN</td>\n",
              "      <td>290100.0</td>\n",
              "    </tr>\n",
              "    <tr>\n",
              "      <th>10075</th>\n",
              "      <td>-118.29</td>\n",
              "      <td>34.05</td>\n",
              "      <td>34.0</td>\n",
              "      <td>1102.0</td>\n",
              "      <td>NaN</td>\n",
              "      <td>1325.0</td>\n",
              "      <td>439.0</td>\n",
              "      <td>1.5972</td>\n",
              "      <td>&lt;1H OCEAN</td>\n",
              "      <td>168800.0</td>\n",
              "    </tr>\n",
              "  </tbody>\n",
              "</table>\n",
              "<p>110 rows × 10 columns</p>\n",
              "</div>"
            ],
            "text/plain": [
              "       longitude  latitude  ...  ocean_proximity  median_house_value\n",
              "34       -120.32     37.29  ...           INLAND             59600.0\n",
              "86       -118.31     34.09  ...        <1H OCEAN            193800.0\n",
              "294      -122.14     37.67  ...         NEAR BAY            186900.0\n",
              "312      -118.12     34.08  ...        <1H OCEAN            253900.0\n",
              "328      -122.70     38.35  ...        <1H OCEAN            146500.0\n",
              "...          ...       ...  ...              ...                 ...\n",
              "9924     -116.66     32.79  ...        <1H OCEAN            240600.0\n",
              "9967     -118.27     34.17  ...        <1H OCEAN            374000.0\n",
              "10001    -117.28     34.26  ...           INLAND            133600.0\n",
              "10023    -118.43     34.20  ...        <1H OCEAN            290100.0\n",
              "10075    -118.29     34.05  ...        <1H OCEAN            168800.0\n",
              "\n",
              "[110 rows x 10 columns]"
            ]
          },
          "metadata": {
            "tags": []
          },
          "execution_count": 5
        }
      ]
    },
    {
      "cell_type": "markdown",
      "metadata": {
        "id": "SxQJi2B3FLBM"
      },
      "source": [
        "Because we do not know what these null values are supposed to be, I'll use the median of the non-null values for **total_bedrooms** as the value for each of the null entries"
      ]
    },
    {
      "cell_type": "code",
      "metadata": {
        "colab": {
          "base_uri": "https://localhost:8080/"
        },
        "id": "QrzZ7aeXQMay",
        "outputId": "ab5db60c-9325-4766-ab56-136e5d7c3d72"
      },
      "source": [
        "non_null_data = train_data[train_data['total_bedrooms'].notnull()]\n",
        "median = np.median(non_null_data['total_bedrooms'])\n",
        "train_data['total_bedrooms'].fillna(median, inplace = True)\n",
        "\n",
        "train_data.info()"
      ],
      "execution_count": null,
      "outputs": [
        {
          "output_type": "stream",
          "text": [
            "<class 'pandas.core.frame.DataFrame'>\n",
            "RangeIndex: 10320 entries, 0 to 10319\n",
            "Data columns (total 10 columns):\n",
            " #   Column              Non-Null Count  Dtype  \n",
            "---  ------              --------------  -----  \n",
            " 0   longitude           10320 non-null  float64\n",
            " 1   latitude            10320 non-null  float64\n",
            " 2   housing_median_age  10320 non-null  float64\n",
            " 3   total_rooms         10320 non-null  float64\n",
            " 4   total_bedrooms      10320 non-null  float64\n",
            " 5   population          10320 non-null  float64\n",
            " 6   households          10320 non-null  float64\n",
            " 7   median_income       10320 non-null  float64\n",
            " 8   ocean_proximity     10320 non-null  object \n",
            " 9   median_house_value  10320 non-null  float64\n",
            "dtypes: float64(9), object(1)\n",
            "memory usage: 806.4+ KB\n"
          ],
          "name": "stdout"
        }
      ]
    },
    {
      "cell_type": "markdown",
      "metadata": {
        "id": "uXRsoZ8c1_5a"
      },
      "source": [
        "# Outliers"
      ]
    },
    {
      "cell_type": "code",
      "metadata": {
        "id": "lOGeymYm2ZG9",
        "colab": {
          "base_uri": "https://localhost:8080/",
          "height": 873
        },
        "outputId": "0aedb1a3-cfd9-4ca3-b27d-08b933899122"
      },
      "source": [
        "train_data.iloc[:, :-1].hist(bins = 60, figsize = (18, 12), grid = False, layout = (3, 3))\n",
        "plt.tight_layout()\n",
        "plt.show()"
      ],
      "execution_count": null,
      "outputs": [
        {
          "output_type": "display_data",
          "data": {
            "image/png": "[encoded data removed]",
            "text/plain": [
              "<Figure size 1296x864 with 9 Axes>"
            ]
          },
          "metadata": {
            "tags": [],
            "needs_background": "light"
          }
        }
      ]
    },
    {
      "cell_type": "markdown",
      "metadata": {
        "id": "g__pTjwY2a__"
      },
      "source": [
        "While the median age has a huge spike around 52, this is not an outlier. It simply shows that there are a lot of locations in which there are middle-aged couples with no kids (or that perhaps the values were clamped, but this is what I like to think)\n",
        "\n",
        "Most of the features follow an exponential distribution, and while this means that the data is left-skewed it does not determine the presence of outliers. Because of this, I don't need to do any clamping or data dropping to take care of outliers."
      ]
    },
    {
      "cell_type": "markdown",
      "metadata": {
        "id": "sGidrxaw2eJz"
      },
      "source": [
        "# Scaling"
      ]
    },
    {
      "cell_type": "markdown",
      "metadata": {
        "id": "z_7E0n0q2kWB"
      },
      "source": [
        "I do not believe that normalization or standardization would help in this scenario, as linear regression models predict using the values corresponding to a line of best fit. Because of this, I will not implement it in my approach."
      ]
    },
    {
      "cell_type": "markdown",
      "metadata": {
        "id": "mlAvd4_C6Jg7"
      },
      "source": [
        "# Other Preprocessing"
      ]
    },
    {
      "cell_type": "markdown",
      "metadata": {
        "id": "BKIBsxtp6dAj"
      },
      "source": [
        "Because the models work with numbers, and not words, I'll assign values to the different measures of **ocean_proximity**"
      ]
    },
    {
      "cell_type": "code",
      "metadata": {
        "colab": {
          "base_uri": "https://localhost:8080/"
        },
        "id": "7_S_jbv066ja",
        "outputId": "0563634d-8275-41bc-9ad4-58a0571fdc38"
      },
      "source": [
        "measures_list = []\n",
        "for x in train_data['ocean_proximity']:\n",
        "  if x not in measures_list:\n",
        "    measures_list.append(x)\n",
        "\n",
        "print(measures_list)"
      ],
      "execution_count": null,
      "outputs": [
        {
          "output_type": "stream",
          "text": [
            "['NEAR BAY', '<1H OCEAN', 'NEAR OCEAN', 'INLAND', 'ISLAND']\n"
          ],
          "name": "stdout"
        }
      ]
    },
    {
      "cell_type": "code",
      "metadata": {
        "colab": {
          "base_uri": "https://localhost:8080/",
          "height": 419
        },
        "id": "_IovkSEd7_aj",
        "outputId": "6d7e101b-2d62-453d-da55-f7021cd77186"
      },
      "source": [
        "dummy_ints = {'NEAR BAY': 0, '<1H OCEAN': 1, 'NEAR OCEAN': 2, 'INLAND': 3, 'ISLAND': 4}\n",
        "train_data['ocean_proximity'] = [dummy_ints[k] for k in train_data['ocean_proximity']]\n",
        "\n",
        "train_data"
      ],
      "execution_count": null,
      "outputs": [
        {
          "output_type": "execute_result",
          "data": {
            "text/html": [
              "<div>\n",
              "<style scoped>\n",
              "    .dataframe tbody tr th:only-of-type {\n",
              "        vertical-align: middle;\n",
              "    }\n",
              "\n",
              "    .dataframe tbody tr th {\n",
              "        vertical-align: top;\n",
              "    }\n",
              "\n",
              "    .dataframe thead th {\n",
              "        text-align: right;\n",
              "    }\n",
              "</style>\n",
              "<table border=\"1\" class=\"dataframe\">\n",
              "  <thead>\n",
              "    <tr style=\"text-align: right;\">\n",
              "      <th></th>\n",
              "      <th>longitude</th>\n",
              "      <th>latitude</th>\n",
              "      <th>housing_median_age</th>\n",
              "      <th>total_rooms</th>\n",
              "      <th>total_bedrooms</th>\n",
              "      <th>population</th>\n",
              "      <th>households</th>\n",
              "      <th>median_income</th>\n",
              "      <th>ocean_proximity</th>\n",
              "      <th>median_house_value</th>\n",
              "    </tr>\n",
              "  </thead>\n",
              "  <tbody>\n",
              "    <tr>\n",
              "      <th>0</th>\n",
              "      <td>-122.22</td>\n",
              "      <td>37.77</td>\n",
              "      <td>40.0</td>\n",
              "      <td>494.0</td>\n",
              "      <td>114.0</td>\n",
              "      <td>547.0</td>\n",
              "      <td>135.0</td>\n",
              "      <td>2.8015</td>\n",
              "      <td>0</td>\n",
              "      <td>114800.0</td>\n",
              "    </tr>\n",
              "    <tr>\n",
              "      <th>1</th>\n",
              "      <td>-122.29</td>\n",
              "      <td>37.76</td>\n",
              "      <td>18.0</td>\n",
              "      <td>2873.0</td>\n",
              "      <td>763.0</td>\n",
              "      <td>1243.0</td>\n",
              "      <td>663.0</td>\n",
              "      <td>5.1702</td>\n",
              "      <td>0</td>\n",
              "      <td>265400.0</td>\n",
              "    </tr>\n",
              "    <tr>\n",
              "      <th>2</th>\n",
              "      <td>-118.48</td>\n",
              "      <td>34.23</td>\n",
              "      <td>29.0</td>\n",
              "      <td>3354.0</td>\n",
              "      <td>707.0</td>\n",
              "      <td>1752.0</td>\n",
              "      <td>650.0</td>\n",
              "      <td>4.5484</td>\n",
              "      <td>1</td>\n",
              "      <td>239900.0</td>\n",
              "    </tr>\n",
              "    <tr>\n",
              "      <th>3</th>\n",
              "      <td>-122.19</td>\n",
              "      <td>37.80</td>\n",
              "      <td>48.0</td>\n",
              "      <td>1694.0</td>\n",
              "      <td>259.0</td>\n",
              "      <td>610.0</td>\n",
              "      <td>238.0</td>\n",
              "      <td>4.7440</td>\n",
              "      <td>0</td>\n",
              "      <td>257300.0</td>\n",
              "    </tr>\n",
              "    <tr>\n",
              "      <th>4</th>\n",
              "      <td>-121.93</td>\n",
              "      <td>36.63</td>\n",
              "      <td>33.0</td>\n",
              "      <td>1740.0</td>\n",
              "      <td>342.0</td>\n",
              "      <td>638.0</td>\n",
              "      <td>329.0</td>\n",
              "      <td>3.1912</td>\n",
              "      <td>2</td>\n",
              "      <td>319800.0</td>\n",
              "    </tr>\n",
              "    <tr>\n",
              "      <th>...</th>\n",
              "      <td>...</td>\n",
              "      <td>...</td>\n",
              "      <td>...</td>\n",
              "      <td>...</td>\n",
              "      <td>...</td>\n",
              "      <td>...</td>\n",
              "      <td>...</td>\n",
              "      <td>...</td>\n",
              "      <td>...</td>\n",
              "      <td>...</td>\n",
              "    </tr>\n",
              "    <tr>\n",
              "      <th>10315</th>\n",
              "      <td>-117.79</td>\n",
              "      <td>33.70</td>\n",
              "      <td>16.0</td>\n",
              "      <td>1416.0</td>\n",
              "      <td>249.0</td>\n",
              "      <td>636.0</td>\n",
              "      <td>244.0</td>\n",
              "      <td>5.1741</td>\n",
              "      <td>1</td>\n",
              "      <td>227700.0</td>\n",
              "    </tr>\n",
              "    <tr>\n",
              "      <th>10316</th>\n",
              "      <td>-117.41</td>\n",
              "      <td>33.95</td>\n",
              "      <td>37.0</td>\n",
              "      <td>1586.0</td>\n",
              "      <td>283.0</td>\n",
              "      <td>675.0</td>\n",
              "      <td>305.0</td>\n",
              "      <td>2.9583</td>\n",
              "      <td>3</td>\n",
              "      <td>132100.0</td>\n",
              "    </tr>\n",
              "    <tr>\n",
              "      <th>10317</th>\n",
              "      <td>-118.65</td>\n",
              "      <td>34.20</td>\n",
              "      <td>23.0</td>\n",
              "      <td>7480.0</td>\n",
              "      <td>1084.0</td>\n",
              "      <td>3037.0</td>\n",
              "      <td>1058.0</td>\n",
              "      <td>6.9223</td>\n",
              "      <td>1</td>\n",
              "      <td>338400.0</td>\n",
              "    </tr>\n",
              "    <tr>\n",
              "      <th>10318</th>\n",
              "      <td>-118.00</td>\n",
              "      <td>34.12</td>\n",
              "      <td>37.0</td>\n",
              "      <td>1340.0</td>\n",
              "      <td>325.0</td>\n",
              "      <td>928.0</td>\n",
              "      <td>333.0</td>\n",
              "      <td>3.9219</td>\n",
              "      <td>3</td>\n",
              "      <td>175000.0</td>\n",
              "    </tr>\n",
              "    <tr>\n",
              "      <th>10319</th>\n",
              "      <td>-117.04</td>\n",
              "      <td>32.75</td>\n",
              "      <td>36.0</td>\n",
              "      <td>2297.0</td>\n",
              "      <td>418.0</td>\n",
              "      <td>1070.0</td>\n",
              "      <td>392.0</td>\n",
              "      <td>3.5192</td>\n",
              "      <td>2</td>\n",
              "      <td>144000.0</td>\n",
              "    </tr>\n",
              "  </tbody>\n",
              "</table>\n",
              "<p>10320 rows × 10 columns</p>\n",
              "</div>"
            ],
            "text/plain": [
              "       longitude  latitude  ...  ocean_proximity  median_house_value\n",
              "0        -122.22     37.77  ...                0            114800.0\n",
              "1        -122.29     37.76  ...                0            265400.0\n",
              "2        -118.48     34.23  ...                1            239900.0\n",
              "3        -122.19     37.80  ...                0            257300.0\n",
              "4        -121.93     36.63  ...                2            319800.0\n",
              "...          ...       ...  ...              ...                 ...\n",
              "10315    -117.79     33.70  ...                1            227700.0\n",
              "10316    -117.41     33.95  ...                3            132100.0\n",
              "10317    -118.65     34.20  ...                1            338400.0\n",
              "10318    -118.00     34.12  ...                3            175000.0\n",
              "10319    -117.04     32.75  ...                2            144000.0\n",
              "\n",
              "[10320 rows x 10 columns]"
            ]
          },
          "metadata": {
            "tags": []
          },
          "execution_count": 8
        }
      ]
    },
    {
      "cell_type": "markdown",
      "metadata": {
        "id": "ZmSgroKdSlL3"
      },
      "source": [
        "While it isn't continuous data like the other features, it will allow the model to be able to predict now."
      ]
    },
    {
      "cell_type": "markdown",
      "metadata": {
        "id": "KEe8Kipg2kq8"
      },
      "source": [
        "---\n",
        "# ***Models***\n",
        "---"
      ]
    },
    {
      "cell_type": "markdown",
      "metadata": {
        "id": "nc58Pbev26iK"
      },
      "source": [
        "# Base Models"
      ]
    },
    {
      "cell_type": "code",
      "metadata": {
        "id": "NDCz9Lfn2-cn"
      },
      "source": [
        "def train_model(data, model, iterations):\n",
        "  X = data.drop(columns = ['median_house_value'])\n",
        "  y = data['median_house_value']\n",
        "\n",
        "  rmse_dist = []\n",
        "  for i in range(iterations):\n",
        "    X_train, X_test, y_train, y_test = train_test_split(X, y, test_size = 0.3)\n",
        "    model.fit(X_train, y_train)\n",
        "    predict = model.predict(X_test)\n",
        "\n",
        "    for i in range(len(predict)):\n",
        "      if predict[i] < 0:\n",
        "        predict[i] = 0\n",
        "      elif predict[i] > 500000:\n",
        "        predict[i] = 500000\n",
        "\n",
        "    rmse_dist.append(mean_squared_error(y_test, predict, squared=False))\n",
        "\n",
        "  plt.hist(np.array(rmse_dist), bins = 25)\n",
        "  plt.title('Root Mean Squared Error Distribution')\n",
        "  plt.show()\n",
        "  print('Mean RMSE Value: ' + str(np.mean(rmse_dist)))"
      ],
      "execution_count": null,
      "outputs": []
    },
    {
      "cell_type": "markdown",
      "metadata": {
        "id": "8OXHo5QmIMbQ"
      },
      "source": [
        "Within the model training function, I included a for loop that clamps the prediction values. Because of the way that linear models work, some of the values will end up being negative. As well as this, none of the median housing values from the training data were over 500,000, and so I decided to clamp the values between 0 and 500k."
      ]
    },
    {
      "cell_type": "code",
      "metadata": {
        "id": "TLGJkv-24QW5",
        "colab": {
          "base_uri": "https://localhost:8080/",
          "height": 298
        },
        "outputId": "9e47310e-5be3-4b60-9205-80352a427a41"
      },
      "source": [
        "# Ordinary Least Squares\n",
        "train_model(train_data, LinearRegression(), 1000)"
      ],
      "execution_count": null,
      "outputs": [
        {
          "output_type": "display_data",
          "data": {
            "image/png": "[encoded data removed]",
            "text/plain": [
              "<Figure size 432x288 with 1 Axes>"
            ]
          },
          "metadata": {
            "tags": [],
            "needs_background": "light"
          }
        },
        {
          "output_type": "stream",
          "text": [
            "Mean RMSE Value: 68323.74141822028\n"
          ],
          "name": "stdout"
        }
      ]
    },
    {
      "cell_type": "code",
      "metadata": {
        "id": "JrvPUuYi-Gyv",
        "colab": {
          "base_uri": "https://localhost:8080/",
          "height": 298
        },
        "outputId": "dc5f8248-9d16-40d1-dbbf-9226e86f9651"
      },
      "source": [
        "# Ridge\n",
        "train_model(train_data, Ridge(), 1000)"
      ],
      "execution_count": null,
      "outputs": [
        {
          "output_type": "display_data",
          "data": {
            "image/png": "[encoded data removed]",
            "text/plain": [
              "<Figure size 432x288 with 1 Axes>"
            ]
          },
          "metadata": {
            "tags": [],
            "needs_background": "light"
          }
        },
        {
          "output_type": "stream",
          "text": [
            "Mean RMSE Value: 68305.28141163963\n"
          ],
          "name": "stdout"
        }
      ]
    },
    {
      "cell_type": "code",
      "metadata": {
        "id": "Mn_tq_5l-MVv",
        "colab": {
          "base_uri": "https://localhost:8080/",
          "height": 298
        },
        "outputId": "4a6b21c7-6e86-4080-da68-996862e746a5"
      },
      "source": [
        "# Lasso\n",
        "train_model(train_data, Lasso(), 1000)"
      ],
      "execution_count": null,
      "outputs": [
        {
          "output_type": "display_data",
          "data": {
            "image/png": "[encoded data removed]",
            "text/plain": [
              "<Figure size 432x288 with 1 Axes>"
            ]
          },
          "metadata": {
            "tags": [],
            "needs_background": "light"
          }
        },
        {
          "output_type": "stream",
          "text": [
            "Mean RMSE Value: 68301.51859503206\n"
          ],
          "name": "stdout"
        }
      ]
    },
    {
      "cell_type": "code",
      "metadata": {
        "id": "6SqPEUJi-Qc_",
        "colab": {
          "base_uri": "https://localhost:8080/",
          "height": 298
        },
        "outputId": "61fe9337-a1bc-4054-c09a-b2e96bb5d76c"
      },
      "source": [
        "# Elastic Net\n",
        "train_model(train_data, ElasticNet(), 1000)"
      ],
      "execution_count": null,
      "outputs": [
        {
          "output_type": "display_data",
          "data": {
            "image/png": "[encoded data removed]",
            "text/plain": [
              "<Figure size 432x288 with 1 Axes>"
            ]
          },
          "metadata": {
            "tags": [],
            "needs_background": "light"
          }
        },
        {
          "output_type": "stream",
          "text": [
            "Mean RMSE Value: 71778.66780191696\n"
          ],
          "name": "stdout"
        }
      ]
    },
    {
      "cell_type": "markdown",
      "metadata": {
        "id": "egc-eFhNy-6e"
      },
      "source": [
        "All of the RMSE Score Distributions appear to follow the bell curve, and all of them give values whose differences are negligible (except Elastic Net, which has a worse mean score than the rest) when it comes to picking the model. Because of this, I'm picking the Ordinary Least Squares Regression model for the final prediction, since it gives me the lowest runtime and is tied for the best score."
      ]
    },
    {
      "cell_type": "markdown",
      "metadata": {
        "id": "5oMpEe7B-iZP"
      },
      "source": [
        "# Final Training & Prediction"
      ]
    },
    {
      "cell_type": "code",
      "metadata": {
        "id": "GgJ0XZDx-m-X",
        "colab": {
          "base_uri": "https://localhost:8080/",
          "height": 298
        },
        "outputId": "f64b3ac6-a054-45f6-eb64-44be9f7b12fe"
      },
      "source": [
        "lr_model = LinearRegression()\n",
        "train_model(train_data, lr_model, 100)"
      ],
      "execution_count": null,
      "outputs": [
        {
          "output_type": "display_data",
          "data": {
            "image/png": "[encoded data removed]",
            "text/plain": [
              "<Figure size 432x288 with 1 Axes>"
            ]
          },
          "metadata": {
            "tags": [],
            "needs_background": "light"
          }
        },
        {
          "output_type": "stream",
          "text": [
            "Mean RMSE Value: 68305.42093100198\n"
          ],
          "name": "stdout"
        }
      ]
    },
    {
      "cell_type": "markdown",
      "metadata": {
        "id": "Lfl5Kc2h-y-_"
      },
      "source": [
        "The model is now trained and ready to make the final prediction, however the test data is not."
      ]
    },
    {
      "cell_type": "code",
      "metadata": {
        "colab": {
          "base_uri": "https://localhost:8080/",
          "height": 419
        },
        "id": "XtaQIBKK0cTg",
        "outputId": "f0fe59f3-24f5-4cbf-e481-c149045c6e05"
      },
      "source": [
        "test_data"
      ],
      "execution_count": null,
      "outputs": [
        {
          "output_type": "execute_result",
          "data": {
            "text/html": [
              "<div>\n",
              "<style scoped>\n",
              "    .dataframe tbody tr th:only-of-type {\n",
              "        vertical-align: middle;\n",
              "    }\n",
              "\n",
              "    .dataframe tbody tr th {\n",
              "        vertical-align: top;\n",
              "    }\n",
              "\n",
              "    .dataframe thead th {\n",
              "        text-align: right;\n",
              "    }\n",
              "</style>\n",
              "<table border=\"1\" class=\"dataframe\">\n",
              "  <thead>\n",
              "    <tr style=\"text-align: right;\">\n",
              "      <th></th>\n",
              "      <th>longitude</th>\n",
              "      <th>latitude</th>\n",
              "      <th>housing_median_age</th>\n",
              "      <th>total_rooms</th>\n",
              "      <th>total_bedrooms</th>\n",
              "      <th>population</th>\n",
              "      <th>households</th>\n",
              "      <th>median_income</th>\n",
              "      <th>ocean_proximity</th>\n",
              "    </tr>\n",
              "  </thead>\n",
              "  <tbody>\n",
              "    <tr>\n",
              "      <th>0</th>\n",
              "      <td>-122.36</td>\n",
              "      <td>37.94</td>\n",
              "      <td>41.0</td>\n",
              "      <td>2591.0</td>\n",
              "      <td>585.0</td>\n",
              "      <td>1638.0</td>\n",
              "      <td>462.0</td>\n",
              "      <td>1.8220</td>\n",
              "      <td>NEAR BAY</td>\n",
              "    </tr>\n",
              "    <tr>\n",
              "      <th>1</th>\n",
              "      <td>-118.37</td>\n",
              "      <td>34.16</td>\n",
              "      <td>17.0</td>\n",
              "      <td>4150.0</td>\n",
              "      <td>1148.0</td>\n",
              "      <td>1808.0</td>\n",
              "      <td>1041.0</td>\n",
              "      <td>3.5051</td>\n",
              "      <td>&lt;1H OCEAN</td>\n",
              "    </tr>\n",
              "    <tr>\n",
              "      <th>2</th>\n",
              "      <td>-118.29</td>\n",
              "      <td>33.95</td>\n",
              "      <td>40.0</td>\n",
              "      <td>2808.0</td>\n",
              "      <td>695.0</td>\n",
              "      <td>2357.0</td>\n",
              "      <td>627.0</td>\n",
              "      <td>1.9655</td>\n",
              "      <td>&lt;1H OCEAN</td>\n",
              "    </tr>\n",
              "    <tr>\n",
              "      <th>3</th>\n",
              "      <td>-121.77</td>\n",
              "      <td>38.01</td>\n",
              "      <td>13.0</td>\n",
              "      <td>2983.0</td>\n",
              "      <td>534.0</td>\n",
              "      <td>1417.0</td>\n",
              "      <td>510.0</td>\n",
              "      <td>3.9861</td>\n",
              "      <td>INLAND</td>\n",
              "    </tr>\n",
              "    <tr>\n",
              "      <th>4</th>\n",
              "      <td>-118.26</td>\n",
              "      <td>34.08</td>\n",
              "      <td>45.0</td>\n",
              "      <td>2174.0</td>\n",
              "      <td>627.0</td>\n",
              "      <td>1992.0</td>\n",
              "      <td>557.0</td>\n",
              "      <td>2.5428</td>\n",
              "      <td>&lt;1H OCEAN</td>\n",
              "    </tr>\n",
              "    <tr>\n",
              "      <th>...</th>\n",
              "      <td>...</td>\n",
              "      <td>...</td>\n",
              "      <td>...</td>\n",
              "      <td>...</td>\n",
              "      <td>...</td>\n",
              "      <td>...</td>\n",
              "      <td>...</td>\n",
              "      <td>...</td>\n",
              "      <td>...</td>\n",
              "    </tr>\n",
              "    <tr>\n",
              "      <th>10315</th>\n",
              "      <td>-122.15</td>\n",
              "      <td>37.74</td>\n",
              "      <td>49.0</td>\n",
              "      <td>1325.0</td>\n",
              "      <td>277.0</td>\n",
              "      <td>764.0</td>\n",
              "      <td>282.0</td>\n",
              "      <td>3.3125</td>\n",
              "      <td>NEAR BAY</td>\n",
              "    </tr>\n",
              "    <tr>\n",
              "      <th>10316</th>\n",
              "      <td>-118.27</td>\n",
              "      <td>33.94</td>\n",
              "      <td>39.0</td>\n",
              "      <td>2078.0</td>\n",
              "      <td>561.0</td>\n",
              "      <td>1901.0</td>\n",
              "      <td>504.0</td>\n",
              "      <td>1.1468</td>\n",
              "      <td>&lt;1H OCEAN</td>\n",
              "    </tr>\n",
              "    <tr>\n",
              "      <th>10317</th>\n",
              "      <td>-122.59</td>\n",
              "      <td>38.43</td>\n",
              "      <td>20.0</td>\n",
              "      <td>2791.0</td>\n",
              "      <td>546.0</td>\n",
              "      <td>785.0</td>\n",
              "      <td>512.0</td>\n",
              "      <td>3.4561</td>\n",
              "      <td>&lt;1H OCEAN</td>\n",
              "    </tr>\n",
              "    <tr>\n",
              "      <th>10318</th>\n",
              "      <td>-122.04</td>\n",
              "      <td>37.37</td>\n",
              "      <td>33.0</td>\n",
              "      <td>2757.0</td>\n",
              "      <td>489.0</td>\n",
              "      <td>1201.0</td>\n",
              "      <td>481.0</td>\n",
              "      <td>5.0453</td>\n",
              "      <td>&lt;1H OCEAN</td>\n",
              "    </tr>\n",
              "    <tr>\n",
              "      <th>10319</th>\n",
              "      <td>-116.99</td>\n",
              "      <td>32.72</td>\n",
              "      <td>13.0</td>\n",
              "      <td>1330.0</td>\n",
              "      <td>216.0</td>\n",
              "      <td>719.0</td>\n",
              "      <td>215.0</td>\n",
              "      <td>3.8295</td>\n",
              "      <td>&lt;1H OCEAN</td>\n",
              "    </tr>\n",
              "  </tbody>\n",
              "</table>\n",
              "<p>10320 rows × 9 columns</p>\n",
              "</div>"
            ],
            "text/plain": [
              "       longitude  latitude  ...  median_income  ocean_proximity\n",
              "0        -122.36     37.94  ...         1.8220         NEAR BAY\n",
              "1        -118.37     34.16  ...         3.5051        <1H OCEAN\n",
              "2        -118.29     33.95  ...         1.9655        <1H OCEAN\n",
              "3        -121.77     38.01  ...         3.9861           INLAND\n",
              "4        -118.26     34.08  ...         2.5428        <1H OCEAN\n",
              "...          ...       ...  ...            ...              ...\n",
              "10315    -122.15     37.74  ...         3.3125         NEAR BAY\n",
              "10316    -118.27     33.94  ...         1.1468        <1H OCEAN\n",
              "10317    -122.59     38.43  ...         3.4561        <1H OCEAN\n",
              "10318    -122.04     37.37  ...         5.0453        <1H OCEAN\n",
              "10319    -116.99     32.72  ...         3.8295        <1H OCEAN\n",
              "\n",
              "[10320 rows x 9 columns]"
            ]
          },
          "metadata": {
            "tags": []
          },
          "execution_count": 11
        }
      ]
    },
    {
      "cell_type": "code",
      "metadata": {
        "colab": {
          "base_uri": "https://localhost:8080/"
        },
        "id": "4ogzjVL00glt",
        "outputId": "6b3449c2-11db-40ea-8993-9ab63f167021"
      },
      "source": [
        "test_data.info()"
      ],
      "execution_count": null,
      "outputs": [
        {
          "output_type": "stream",
          "text": [
            "<class 'pandas.core.frame.DataFrame'>\n",
            "RangeIndex: 10320 entries, 0 to 10319\n",
            "Data columns (total 9 columns):\n",
            " #   Column              Non-Null Count  Dtype  \n",
            "---  ------              --------------  -----  \n",
            " 0   longitude           10320 non-null  float64\n",
            " 1   latitude            10320 non-null  float64\n",
            " 2   housing_median_age  10320 non-null  float64\n",
            " 3   total_rooms         10320 non-null  float64\n",
            " 4   total_bedrooms      10223 non-null  float64\n",
            " 5   population          10320 non-null  float64\n",
            " 6   households          10320 non-null  float64\n",
            " 7   median_income       10320 non-null  float64\n",
            " 8   ocean_proximity     10320 non-null  object \n",
            "dtypes: float64(8), object(1)\n",
            "memory usage: 725.8+ KB\n"
          ],
          "name": "stdout"
        }
      ]
    },
    {
      "cell_type": "markdown",
      "metadata": {
        "id": "2vn_zZjA0q5g"
      },
      "source": [
        "Just as in the training data, the **ocean_proximity** feature needs to be converted into integers, and additionally the missing values in the test data need to be addressed. I'll use the same methods that I did in the training data to handle this."
      ]
    },
    {
      "cell_type": "code",
      "metadata": {
        "id": "nKMHfzHW1E0a"
      },
      "source": [
        "non_null_data = test_data[test_data['total_bedrooms'].notnull()]\n",
        "median = np.median(non_null_data['total_bedrooms'])\n",
        "test_data['total_bedrooms'].fillna(median, inplace = True)"
      ],
      "execution_count": null,
      "outputs": []
    },
    {
      "cell_type": "code",
      "metadata": {
        "id": "UvV5SvCM0HL5"
      },
      "source": [
        "test_data['ocean_proximity'] = [dummy_ints[k] for k in test_data['ocean_proximity']]"
      ],
      "execution_count": null,
      "outputs": []
    },
    {
      "cell_type": "markdown",
      "metadata": {
        "id": "Ffx53Wzj5zTz"
      },
      "source": [
        "The test data has now been engineered in the same way that the training data was, so it's time to predict."
      ]
    },
    {
      "cell_type": "code",
      "metadata": {
        "id": "e2VAva2B52a4"
      },
      "source": [
        "final_test_X = test_data\n",
        "\n",
        "X = train_data.drop(columns = ['median_house_value'])\n",
        "y = train_data['median_house_value']\n",
        "\n",
        "lr_model.fit(X, y)\n",
        "predictions = lr_model.predict(final_test_X)"
      ],
      "execution_count": null,
      "outputs": []
    },
    {
      "cell_type": "markdown",
      "metadata": {
        "id": "NswyEX7xD3SA"
      },
      "source": [
        "As with the training data, I'll clamp the prediction values between 0 and 500,000"
      ]
    },
    {
      "cell_type": "code",
      "metadata": {
        "id": "dkhUZqJf_D3c"
      },
      "source": [
        "for i in range(len(predictions)):\n",
        "      if predictions[i] < 0:\n",
        "        predictions[i] = 0\n",
        "      elif predictions[i] > 500000:\n",
        "        predictions[i] = 500000"
      ],
      "execution_count": null,
      "outputs": []
    },
    {
      "cell_type": "code",
      "metadata": {
        "id": "OB5iBv_7-ys8",
        "colab": {
          "base_uri": "https://localhost:8080/"
        },
        "outputId": "2efdf6ce-a04b-4cee-bafc-d8264a5651c3"
      },
      "source": [
        "output = pd.DataFrame({'id': np.arange(0, 10320), 'median_house_value': predictions})\n",
        "output = output.set_index('id')\n",
        "print(output)\n",
        "output.to_csv('my_submission.csv')"
      ],
      "execution_count": null,
      "outputs": [
        {
          "output_type": "stream",
          "text": [
            "       median_house_value\n",
            "id                       \n",
            "0           163187.240433\n",
            "1           262802.421869\n",
            "2           147951.264965\n",
            "3           175097.457087\n",
            "4           178249.641859\n",
            "...                   ...\n",
            "10315       235759.715376\n",
            "10316       116812.024535\n",
            "10317       222045.356246\n",
            "10318       293576.053059\n",
            "10319       195060.531029\n",
            "\n",
            "[10320 rows x 1 columns]\n"
          ],
          "name": "stdout"
        }
      ]
    }
  ]
}