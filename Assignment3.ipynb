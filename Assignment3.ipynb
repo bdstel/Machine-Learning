{
  "nbformat": 4,
  "nbformat_minor": 0,
  "metadata": {
    "colab": {
      "name": "Assignment 3.ipynb",
      "provenance": [],
      "collapsed_sections": [],
      "toc_visible": true,
      "authorship_tag": "ABX9TyNuaqJYXijuTwGx7sut3pFg",
      "include_colab_link": true
    },
    "kernelspec": {
      "name": "python3",
      "display_name": "Python 3"
    }
  },
  "cells": [
    {
      "cell_type": "markdown",
      "metadata": {
        "id": "view-in-github",
        "colab_type": "text"
      },
      "source": [
        "<a href=\"https://colab.research.google.com/github/bdstel/Machine-Learning/blob/main/Assignment3.ipynb\" target=\"_parent\"><img src=\"https://colab.research.google.com/assets/colab-badge.svg\" alt=\"Open In Colab\"/></a>"
      ]
    },
    {
      "cell_type": "markdown",
      "metadata": {
        "id": "Md6F9v46hATT"
      },
      "source": [
        "Kaggle Username: **bradensteller**"
      ]
    },
    {
      "cell_type": "code",
      "metadata": {
        "id": "CpW4vV69g4NJ"
      },
      "source": [
        "import numpy as np\n",
        "import pandas as pd\n",
        "from matplotlib import pyplot as plt\n",
        "from sklearn import preprocessing\n",
        "from sklearn.naive_bayes import GaussianNB, MultinomialNB, ComplementNB\n",
        "from sklearn.metrics import roc_auc_score, f1_score, accuracy_score\n",
        "from sklearn.model_selection import ParameterGrid, RandomizedSearchCV, GridSearchCV, train_test_split"
      ],
      "execution_count": null,
      "outputs": []
    },
    {
      "cell_type": "code",
      "metadata": {
        "id": "HiocSvEsf8Ru"
      },
      "source": [
        "train_data = pd.read_csv(\"/content/train.csv\").drop(columns = ['id'])\n",
        "test_data = pd.read_csv(\"/content/test.csv\").drop(columns = ['id'])"
      ],
      "execution_count": null,
      "outputs": []
    },
    {
      "cell_type": "code",
      "metadata": {
        "colab": {
          "base_uri": "https://localhost:8080/",
          "height": 456
        },
        "id": "YhqMk65UiHYE",
        "outputId": "74bf8820-3c12-451f-edf1-b57c0ef97135"
      },
      "source": [
        "train_data"
      ],
      "execution_count": null,
      "outputs": [
        {
          "output_type": "execute_result",
          "data": {
            "text/html": [
              "<div>\n",
              "<style scoped>\n",
              "    .dataframe tbody tr th:only-of-type {\n",
              "        vertical-align: middle;\n",
              "    }\n",
              "\n",
              "    .dataframe tbody tr th {\n",
              "        vertical-align: top;\n",
              "    }\n",
              "\n",
              "    .dataframe thead th {\n",
              "        text-align: right;\n",
              "    }\n",
              "</style>\n",
              "<table border=\"1\" class=\"dataframe\">\n",
              "  <thead>\n",
              "    <tr style=\"text-align: right;\">\n",
              "      <th></th>\n",
              "      <th>radius_mean</th>\n",
              "      <th>texture_mean</th>\n",
              "      <th>perimeter_mean</th>\n",
              "      <th>area_mean</th>\n",
              "      <th>smoothness_mean</th>\n",
              "      <th>compactness_mean</th>\n",
              "      <th>concavity_mean</th>\n",
              "      <th>concave points_mean</th>\n",
              "      <th>symmetry_mean</th>\n",
              "      <th>fractal_dimension_mean</th>\n",
              "      <th>radius_se</th>\n",
              "      <th>texture_se</th>\n",
              "      <th>perimeter_se</th>\n",
              "      <th>area_se</th>\n",
              "      <th>smoothness_se</th>\n",
              "      <th>compactness_se</th>\n",
              "      <th>concavity_se</th>\n",
              "      <th>concave points_se</th>\n",
              "      <th>symmetry_se</th>\n",
              "      <th>fractal_dimension_se</th>\n",
              "      <th>radius_worst</th>\n",
              "      <th>texture_worst</th>\n",
              "      <th>perimeter_worst</th>\n",
              "      <th>area_worst</th>\n",
              "      <th>smoothness_worst</th>\n",
              "      <th>compactness_worst</th>\n",
              "      <th>concavity_worst</th>\n",
              "      <th>concave points_worst</th>\n",
              "      <th>symmetry_worst</th>\n",
              "      <th>fractal_dimension_worst</th>\n",
              "      <th>diagnosis</th>\n",
              "    </tr>\n",
              "  </thead>\n",
              "  <tbody>\n",
              "    <tr>\n",
              "      <th>0</th>\n",
              "      <td>14.48</td>\n",
              "      <td>21.46</td>\n",
              "      <td>94.25</td>\n",
              "      <td>648.2</td>\n",
              "      <td>0.09444</td>\n",
              "      <td>0.09947</td>\n",
              "      <td>0.120400</td>\n",
              "      <td>0.04938</td>\n",
              "      <td>0.2075</td>\n",
              "      <td>0.05636</td>\n",
              "      <td>0.4204</td>\n",
              "      <td>2.2200</td>\n",
              "      <td>3.301</td>\n",
              "      <td>38.87</td>\n",
              "      <td>0.009369</td>\n",
              "      <td>0.029830</td>\n",
              "      <td>0.05371</td>\n",
              "      <td>0.017610</td>\n",
              "      <td>0.02418</td>\n",
              "      <td>0.003249</td>\n",
              "      <td>16.21</td>\n",
              "      <td>29.25</td>\n",
              "      <td>108.40</td>\n",
              "      <td>808.9</td>\n",
              "      <td>0.1306</td>\n",
              "      <td>0.19760</td>\n",
              "      <td>0.33490</td>\n",
              "      <td>0.12250</td>\n",
              "      <td>0.3020</td>\n",
              "      <td>0.06846</td>\n",
              "      <td>1</td>\n",
              "    </tr>\n",
              "    <tr>\n",
              "      <th>1</th>\n",
              "      <td>14.92</td>\n",
              "      <td>14.93</td>\n",
              "      <td>96.45</td>\n",
              "      <td>686.9</td>\n",
              "      <td>0.08098</td>\n",
              "      <td>0.08549</td>\n",
              "      <td>0.055390</td>\n",
              "      <td>0.03221</td>\n",
              "      <td>0.1687</td>\n",
              "      <td>0.05669</td>\n",
              "      <td>0.2446</td>\n",
              "      <td>0.4334</td>\n",
              "      <td>1.826</td>\n",
              "      <td>23.31</td>\n",
              "      <td>0.003271</td>\n",
              "      <td>0.017700</td>\n",
              "      <td>0.02310</td>\n",
              "      <td>0.008399</td>\n",
              "      <td>0.01148</td>\n",
              "      <td>0.002379</td>\n",
              "      <td>17.18</td>\n",
              "      <td>18.22</td>\n",
              "      <td>112.00</td>\n",
              "      <td>906.6</td>\n",
              "      <td>0.1065</td>\n",
              "      <td>0.27910</td>\n",
              "      <td>0.31510</td>\n",
              "      <td>0.11470</td>\n",
              "      <td>0.2688</td>\n",
              "      <td>0.08273</td>\n",
              "      <td>0</td>\n",
              "    </tr>\n",
              "    <tr>\n",
              "      <th>2</th>\n",
              "      <td>12.81</td>\n",
              "      <td>13.06</td>\n",
              "      <td>81.29</td>\n",
              "      <td>508.8</td>\n",
              "      <td>0.08739</td>\n",
              "      <td>0.03774</td>\n",
              "      <td>0.009193</td>\n",
              "      <td>0.01330</td>\n",
              "      <td>0.1466</td>\n",
              "      <td>0.06133</td>\n",
              "      <td>0.2889</td>\n",
              "      <td>0.9899</td>\n",
              "      <td>1.778</td>\n",
              "      <td>21.79</td>\n",
              "      <td>0.008534</td>\n",
              "      <td>0.006364</td>\n",
              "      <td>0.00618</td>\n",
              "      <td>0.007408</td>\n",
              "      <td>0.01065</td>\n",
              "      <td>0.003351</td>\n",
              "      <td>13.63</td>\n",
              "      <td>16.15</td>\n",
              "      <td>86.70</td>\n",
              "      <td>570.7</td>\n",
              "      <td>0.1162</td>\n",
              "      <td>0.05445</td>\n",
              "      <td>0.02758</td>\n",
              "      <td>0.03990</td>\n",
              "      <td>0.1783</td>\n",
              "      <td>0.07319</td>\n",
              "      <td>0</td>\n",
              "    </tr>\n",
              "    <tr>\n",
              "      <th>3</th>\n",
              "      <td>13.20</td>\n",
              "      <td>17.43</td>\n",
              "      <td>84.13</td>\n",
              "      <td>541.6</td>\n",
              "      <td>0.07215</td>\n",
              "      <td>0.04524</td>\n",
              "      <td>0.043360</td>\n",
              "      <td>0.01105</td>\n",
              "      <td>0.1487</td>\n",
              "      <td>0.05635</td>\n",
              "      <td>0.1630</td>\n",
              "      <td>1.6010</td>\n",
              "      <td>0.873</td>\n",
              "      <td>13.56</td>\n",
              "      <td>0.006261</td>\n",
              "      <td>0.015690</td>\n",
              "      <td>0.03079</td>\n",
              "      <td>0.005383</td>\n",
              "      <td>0.01962</td>\n",
              "      <td>0.002250</td>\n",
              "      <td>13.94</td>\n",
              "      <td>27.82</td>\n",
              "      <td>88.28</td>\n",
              "      <td>602.0</td>\n",
              "      <td>0.1101</td>\n",
              "      <td>0.15080</td>\n",
              "      <td>0.22980</td>\n",
              "      <td>0.04970</td>\n",
              "      <td>0.2767</td>\n",
              "      <td>0.07198</td>\n",
              "      <td>0</td>\n",
              "    </tr>\n",
              "    <tr>\n",
              "      <th>4</th>\n",
              "      <td>12.47</td>\n",
              "      <td>17.31</td>\n",
              "      <td>80.45</td>\n",
              "      <td>480.1</td>\n",
              "      <td>0.08928</td>\n",
              "      <td>0.07630</td>\n",
              "      <td>0.036090</td>\n",
              "      <td>0.02369</td>\n",
              "      <td>0.1526</td>\n",
              "      <td>0.06046</td>\n",
              "      <td>0.1532</td>\n",
              "      <td>0.7810</td>\n",
              "      <td>1.253</td>\n",
              "      <td>11.91</td>\n",
              "      <td>0.003796</td>\n",
              "      <td>0.013710</td>\n",
              "      <td>0.01346</td>\n",
              "      <td>0.007096</td>\n",
              "      <td>0.01536</td>\n",
              "      <td>0.001541</td>\n",
              "      <td>14.06</td>\n",
              "      <td>24.34</td>\n",
              "      <td>92.82</td>\n",
              "      <td>607.3</td>\n",
              "      <td>0.1276</td>\n",
              "      <td>0.25060</td>\n",
              "      <td>0.20280</td>\n",
              "      <td>0.10530</td>\n",
              "      <td>0.3035</td>\n",
              "      <td>0.07661</td>\n",
              "      <td>0</td>\n",
              "    </tr>\n",
              "    <tr>\n",
              "      <th>...</th>\n",
              "      <td>...</td>\n",
              "      <td>...</td>\n",
              "      <td>...</td>\n",
              "      <td>...</td>\n",
              "      <td>...</td>\n",
              "      <td>...</td>\n",
              "      <td>...</td>\n",
              "      <td>...</td>\n",
              "      <td>...</td>\n",
              "      <td>...</td>\n",
              "      <td>...</td>\n",
              "      <td>...</td>\n",
              "      <td>...</td>\n",
              "      <td>...</td>\n",
              "      <td>...</td>\n",
              "      <td>...</td>\n",
              "      <td>...</td>\n",
              "      <td>...</td>\n",
              "      <td>...</td>\n",
              "      <td>...</td>\n",
              "      <td>...</td>\n",
              "      <td>...</td>\n",
              "      <td>...</td>\n",
              "      <td>...</td>\n",
              "      <td>...</td>\n",
              "      <td>...</td>\n",
              "      <td>...</td>\n",
              "      <td>...</td>\n",
              "      <td>...</td>\n",
              "      <td>...</td>\n",
              "      <td>...</td>\n",
              "    </tr>\n",
              "    <tr>\n",
              "      <th>279</th>\n",
              "      <td>15.13</td>\n",
              "      <td>29.81</td>\n",
              "      <td>96.71</td>\n",
              "      <td>719.5</td>\n",
              "      <td>0.08320</td>\n",
              "      <td>0.04605</td>\n",
              "      <td>0.046860</td>\n",
              "      <td>0.02739</td>\n",
              "      <td>0.1852</td>\n",
              "      <td>0.05294</td>\n",
              "      <td>0.4681</td>\n",
              "      <td>1.6270</td>\n",
              "      <td>3.043</td>\n",
              "      <td>45.38</td>\n",
              "      <td>0.006831</td>\n",
              "      <td>0.014270</td>\n",
              "      <td>0.02489</td>\n",
              "      <td>0.009087</td>\n",
              "      <td>0.03151</td>\n",
              "      <td>0.001750</td>\n",
              "      <td>17.26</td>\n",
              "      <td>36.91</td>\n",
              "      <td>110.10</td>\n",
              "      <td>931.4</td>\n",
              "      <td>0.1148</td>\n",
              "      <td>0.09866</td>\n",
              "      <td>0.15470</td>\n",
              "      <td>0.06575</td>\n",
              "      <td>0.3233</td>\n",
              "      <td>0.06165</td>\n",
              "      <td>1</td>\n",
              "    </tr>\n",
              "    <tr>\n",
              "      <th>280</th>\n",
              "      <td>25.73</td>\n",
              "      <td>17.46</td>\n",
              "      <td>174.20</td>\n",
              "      <td>2010.0</td>\n",
              "      <td>0.11490</td>\n",
              "      <td>0.23630</td>\n",
              "      <td>0.336800</td>\n",
              "      <td>0.19130</td>\n",
              "      <td>0.1956</td>\n",
              "      <td>0.06121</td>\n",
              "      <td>0.9948</td>\n",
              "      <td>0.8509</td>\n",
              "      <td>7.222</td>\n",
              "      <td>153.10</td>\n",
              "      <td>0.006369</td>\n",
              "      <td>0.042430</td>\n",
              "      <td>0.04266</td>\n",
              "      <td>0.015080</td>\n",
              "      <td>0.02335</td>\n",
              "      <td>0.003385</td>\n",
              "      <td>33.13</td>\n",
              "      <td>23.58</td>\n",
              "      <td>229.30</td>\n",
              "      <td>3234.0</td>\n",
              "      <td>0.1530</td>\n",
              "      <td>0.59370</td>\n",
              "      <td>0.64510</td>\n",
              "      <td>0.27560</td>\n",
              "      <td>0.3690</td>\n",
              "      <td>0.08815</td>\n",
              "      <td>1</td>\n",
              "    </tr>\n",
              "    <tr>\n",
              "      <th>281</th>\n",
              "      <td>12.04</td>\n",
              "      <td>28.14</td>\n",
              "      <td>76.85</td>\n",
              "      <td>449.9</td>\n",
              "      <td>0.08752</td>\n",
              "      <td>0.06000</td>\n",
              "      <td>0.023670</td>\n",
              "      <td>0.02377</td>\n",
              "      <td>0.1854</td>\n",
              "      <td>0.05698</td>\n",
              "      <td>0.6061</td>\n",
              "      <td>2.6430</td>\n",
              "      <td>4.099</td>\n",
              "      <td>44.96</td>\n",
              "      <td>0.007517</td>\n",
              "      <td>0.015550</td>\n",
              "      <td>0.01465</td>\n",
              "      <td>0.011830</td>\n",
              "      <td>0.02047</td>\n",
              "      <td>0.003883</td>\n",
              "      <td>13.60</td>\n",
              "      <td>33.33</td>\n",
              "      <td>87.24</td>\n",
              "      <td>567.6</td>\n",
              "      <td>0.1041</td>\n",
              "      <td>0.09726</td>\n",
              "      <td>0.05524</td>\n",
              "      <td>0.05547</td>\n",
              "      <td>0.2404</td>\n",
              "      <td>0.06639</td>\n",
              "      <td>0</td>\n",
              "    </tr>\n",
              "    <tr>\n",
              "      <th>282</th>\n",
              "      <td>11.27</td>\n",
              "      <td>15.50</td>\n",
              "      <td>73.38</td>\n",
              "      <td>392.0</td>\n",
              "      <td>0.08365</td>\n",
              "      <td>0.11140</td>\n",
              "      <td>0.100700</td>\n",
              "      <td>0.02757</td>\n",
              "      <td>0.1810</td>\n",
              "      <td>0.07252</td>\n",
              "      <td>0.3305</td>\n",
              "      <td>1.0670</td>\n",
              "      <td>2.569</td>\n",
              "      <td>22.97</td>\n",
              "      <td>0.010380</td>\n",
              "      <td>0.066690</td>\n",
              "      <td>0.09472</td>\n",
              "      <td>0.020470</td>\n",
              "      <td>0.01219</td>\n",
              "      <td>0.012330</td>\n",
              "      <td>12.04</td>\n",
              "      <td>18.93</td>\n",
              "      <td>79.73</td>\n",
              "      <td>450.0</td>\n",
              "      <td>0.1102</td>\n",
              "      <td>0.28090</td>\n",
              "      <td>0.30210</td>\n",
              "      <td>0.08272</td>\n",
              "      <td>0.2157</td>\n",
              "      <td>0.10430</td>\n",
              "      <td>0</td>\n",
              "    </tr>\n",
              "    <tr>\n",
              "      <th>283</th>\n",
              "      <td>14.60</td>\n",
              "      <td>23.29</td>\n",
              "      <td>93.97</td>\n",
              "      <td>664.7</td>\n",
              "      <td>0.08682</td>\n",
              "      <td>0.06636</td>\n",
              "      <td>0.083900</td>\n",
              "      <td>0.05271</td>\n",
              "      <td>0.1627</td>\n",
              "      <td>0.05416</td>\n",
              "      <td>0.4157</td>\n",
              "      <td>1.6270</td>\n",
              "      <td>2.914</td>\n",
              "      <td>33.01</td>\n",
              "      <td>0.008312</td>\n",
              "      <td>0.017420</td>\n",
              "      <td>0.03389</td>\n",
              "      <td>0.015760</td>\n",
              "      <td>0.01740</td>\n",
              "      <td>0.002871</td>\n",
              "      <td>15.79</td>\n",
              "      <td>31.71</td>\n",
              "      <td>102.20</td>\n",
              "      <td>758.2</td>\n",
              "      <td>0.1312</td>\n",
              "      <td>0.15810</td>\n",
              "      <td>0.26750</td>\n",
              "      <td>0.13590</td>\n",
              "      <td>0.2477</td>\n",
              "      <td>0.06836</td>\n",
              "      <td>1</td>\n",
              "    </tr>\n",
              "  </tbody>\n",
              "</table>\n",
              "<p>284 rows × 31 columns</p>\n",
              "</div>"
            ],
            "text/plain": [
              "     radius_mean  texture_mean  ...  fractal_dimension_worst  diagnosis\n",
              "0          14.48         21.46  ...                  0.06846          1\n",
              "1          14.92         14.93  ...                  0.08273          0\n",
              "2          12.81         13.06  ...                  0.07319          0\n",
              "3          13.20         17.43  ...                  0.07198          0\n",
              "4          12.47         17.31  ...                  0.07661          0\n",
              "..           ...           ...  ...                      ...        ...\n",
              "279        15.13         29.81  ...                  0.06165          1\n",
              "280        25.73         17.46  ...                  0.08815          1\n",
              "281        12.04         28.14  ...                  0.06639          0\n",
              "282        11.27         15.50  ...                  0.10430          0\n",
              "283        14.60         23.29  ...                  0.06836          1\n",
              "\n",
              "[284 rows x 31 columns]"
            ]
          },
          "metadata": {
            "tags": []
          },
          "execution_count": 3
        }
      ]
    },
    {
      "cell_type": "markdown",
      "metadata": {
        "id": "CbyuSbWIicoZ"
      },
      "source": [
        "# Missing Values"
      ]
    },
    {
      "cell_type": "code",
      "metadata": {
        "colab": {
          "base_uri": "https://localhost:8080/"
        },
        "id": "q-nDq4_rirQx",
        "outputId": "ce4deb57-6288-41b1-c57d-e471806e6419"
      },
      "source": [
        "train_data.info()"
      ],
      "execution_count": null,
      "outputs": [
        {
          "output_type": "stream",
          "text": [
            "<class 'pandas.core.frame.DataFrame'>\n",
            "RangeIndex: 284 entries, 0 to 283\n",
            "Data columns (total 31 columns):\n",
            " #   Column                   Non-Null Count  Dtype  \n",
            "---  ------                   --------------  -----  \n",
            " 0   radius_mean              284 non-null    float64\n",
            " 1   texture_mean             284 non-null    float64\n",
            " 2   perimeter_mean           284 non-null    float64\n",
            " 3   area_mean                284 non-null    float64\n",
            " 4   smoothness_mean          284 non-null    float64\n",
            " 5   compactness_mean         284 non-null    float64\n",
            " 6   concavity_mean           284 non-null    float64\n",
            " 7   concave points_mean      284 non-null    float64\n",
            " 8   symmetry_mean            284 non-null    float64\n",
            " 9   fractal_dimension_mean   284 non-null    float64\n",
            " 10  radius_se                284 non-null    float64\n",
            " 11  texture_se               284 non-null    float64\n",
            " 12  perimeter_se             284 non-null    float64\n",
            " 13  area_se                  284 non-null    float64\n",
            " 14  smoothness_se            284 non-null    float64\n",
            " 15  compactness_se           284 non-null    float64\n",
            " 16  concavity_se             284 non-null    float64\n",
            " 17  concave points_se        284 non-null    float64\n",
            " 18  symmetry_se              284 non-null    float64\n",
            " 19  fractal_dimension_se     284 non-null    float64\n",
            " 20  radius_worst             284 non-null    float64\n",
            " 21  texture_worst            284 non-null    float64\n",
            " 22  perimeter_worst          284 non-null    float64\n",
            " 23  area_worst               284 non-null    float64\n",
            " 24  smoothness_worst         284 non-null    float64\n",
            " 25  compactness_worst        284 non-null    float64\n",
            " 26  concavity_worst          284 non-null    float64\n",
            " 27  concave points_worst     284 non-null    float64\n",
            " 28  symmetry_worst           284 non-null    float64\n",
            " 29  fractal_dimension_worst  284 non-null    float64\n",
            " 30  diagnosis                284 non-null    int64  \n",
            "dtypes: float64(30), int64(1)\n",
            "memory usage: 68.9 KB\n"
          ],
          "name": "stdout"
        }
      ]
    },
    {
      "cell_type": "markdown",
      "metadata": {
        "id": "IDFh4nB4i9Ir"
      },
      "source": [
        "The output shows us that there are no missing values within the data set, because all of the columns display all rows as non-null"
      ]
    },
    {
      "cell_type": "markdown",
      "metadata": {
        "id": "kEcH647mjOut"
      },
      "source": [
        "# Outliers"
      ]
    },
    {
      "cell_type": "code",
      "metadata": {
        "colab": {
          "base_uri": "https://localhost:8080/",
          "height": 585
        },
        "id": "I55SVqgWjTAT",
        "outputId": "0bf9c539-2e20-4a02-c45c-9b1c5d042251"
      },
      "source": [
        "train_data.iloc[:, :-1].hist(bins = 60, figsize = (16, 8), grid = False, layout = (5, 6))\n",
        "plt.tight_layout()\n",
        "plt.show()"
      ],
      "execution_count": null,
      "outputs": [
        {
          "output_type": "display_data",
          "data": {
            "image/png": "[encoded data removed]",
            "text/plain": [
              "<Figure size 1152x576 with 30 Axes>"
            ]
          },
          "metadata": {
            "tags": [],
            "needs_background": "light"
          }
        }
      ]
    },
    {
      "cell_type": "markdown",
      "metadata": {
        "id": "9Fcz2Rr47Erx"
      },
      "source": [
        "Looking at the above data, a lot of the training data seems to be right skewed, however I don't believe that any of these features need to be clamped based on the fact that they all appear to have some level of significance, as they show the mean, best, and worst of each metric.\n",
        "\n",
        "If I were to clamp these values, there could be a clamped value from the worst category that would align to a non-clamped value from the best, for example. Because of this, I will not be doing anything about the outliers."
      ]
    },
    {
      "cell_type": "markdown",
      "metadata": {
        "id": "TX9-0XdWj4D1"
      },
      "source": [
        "# Base Model"
      ]
    },
    {
      "cell_type": "markdown",
      "metadata": {
        "id": "4JhAXusjkF5B"
      },
      "source": [
        "There are multiple different Naive Bayes models to choose from in order to predict the data, so it's best to use a base model to see how each of these models lands."
      ]
    },
    {
      "cell_type": "code",
      "metadata": {
        "id": "Vw5bBhjgkbgh"
      },
      "source": [
        "def train_model(data, model):\n",
        "  X = data.drop(columns = ['diagnosis'])\n",
        "  y = data['diagnosis']\n",
        "\n",
        "  roc_dist = []\n",
        "  f1_dist = []\n",
        "  acc_dist = []\n",
        "  for i in range(100):\n",
        "    X_train, X_test, y_train, y_test = train_test_split(X, y, test_size = 0.3)\n",
        "\n",
        "    model.fit(X_train, y_train)\n",
        "\n",
        "    predict_prob = model.predict_proba(X_test)[:, 1]\n",
        "    predict = model.predict(X_test)\n",
        "\n",
        "    roc_dist.append(roc_auc_score(y_test, predict_prob))\n",
        "    f1_dist.append(f1_score(y_test, predict))\n",
        "    acc_dist.append(accuracy_score(y_test, predict))\n",
        "\n",
        "  roc_dist = np.array(roc_dist)\n",
        "  f1_dist = np.array(f1_dist)\n",
        "  acc_dist = np.array(acc_dist)\n",
        "\n",
        "  scores_df = pd.DataFrame([roc_dist, f1_dist, acc_dist], index = ['ROC AUC', 'F1', 'Accuracy']).transpose()\n",
        "\n",
        "  scores_df.hist(bins = 20, grid = False, figsize = (22, 4), layout = (1, 3))\n",
        "  plt.show()"
      ],
      "execution_count": null,
      "outputs": []
    },
    {
      "cell_type": "markdown",
      "metadata": {
        "id": "41Yj6nv8vTq_"
      },
      "source": [
        "The function above should now work so that it takes in the training data and predicts on it 100 times, and then displays a distribution of each scoring metric.\n",
        "\n",
        "Now, we use this on the different types of Naive Bayes models"
      ]
    },
    {
      "cell_type": "code",
      "metadata": {
        "colab": {
          "base_uri": "https://localhost:8080/",
          "height": 281
        },
        "id": "p7mdh6dYvq_O",
        "outputId": "cdf6d774-c873-49d5-f8fb-e2b039ba67ef"
      },
      "source": [
        "# Gaussian Naive Bayes\n",
        "train_model(train_data, GaussianNB())"
      ],
      "execution_count": null,
      "outputs": [
        {
          "output_type": "display_data",
          "data": {
            "image/png": "[encoded data removed]",
            "text/plain": [
              "<Figure size 1584x288 with 3 Axes>"
            ]
          },
          "metadata": {
            "tags": [],
            "needs_background": "light"
          }
        }
      ]
    },
    {
      "cell_type": "markdown",
      "metadata": {
        "id": "98yFJyyQwuVt"
      },
      "source": [
        "The Gaussian model gave us an F1 metric averaging around 0.90\n",
        "\n",
        "This makes sense, as while the data appears right skewed, most of the training data otherwise appears to follow a normal distribution as shown by the histograms from the outlier testing."
      ]
    },
    {
      "cell_type": "code",
      "metadata": {
        "colab": {
          "base_uri": "https://localhost:8080/",
          "height": 281
        },
        "id": "B4VI1HvDwyR6",
        "outputId": "4eb5a85b-a08a-4c04-e038-a627178831ac"
      },
      "source": [
        "# Multinomial Naive Bayes\n",
        "train_model(train_data, MultinomialNB())"
      ],
      "execution_count": null,
      "outputs": [
        {
          "output_type": "display_data",
          "data": {
            "image/png": "[encoded data removed]",
            "text/plain": [
              "<Figure size 1584x288 with 3 Axes>"
            ]
          },
          "metadata": {
            "tags": [],
            "needs_background": "light"
          }
        }
      ]
    },
    {
      "cell_type": "markdown",
      "metadata": {
        "id": "kpRnkFYiw_eL"
      },
      "source": [
        "Compared to the Gaussian model, the Multinomial model gave us an F1 score around 0.80, which is significantly worse."
      ]
    },
    {
      "cell_type": "code",
      "metadata": {
        "colab": {
          "base_uri": "https://localhost:8080/",
          "height": 281
        },
        "id": "GjR1x-3JxCh5",
        "outputId": "1bae624e-b92e-4ced-cc92-d29731e2f1c1"
      },
      "source": [
        "# Complement Naive Bayes\n",
        "train_model(train_data, ComplementNB())"
      ],
      "execution_count": null,
      "outputs": [
        {
          "output_type": "display_data",
          "data": {
            "image/png": "[encoded data removed]",
            "text/plain": [
              "<Figure size 1584x288 with 3 Axes>"
            ]
          },
          "metadata": {
            "tags": [],
            "needs_background": "light"
          }
        }
      ]
    },
    {
      "cell_type": "markdown",
      "metadata": {
        "id": "5bv_rXcbxfRL"
      },
      "source": [
        "While Complement model appears to be a better option than the Multinomial, it is still worse than the Gaussian model with an average F1 of around 0.82"
      ]
    },
    {
      "cell_type": "markdown",
      "metadata": {
        "id": "SaDjINW_ygTr"
      },
      "source": [
        "Looking at all of the sample distributions above, I can see that the best Naive Bayes model to use in this case would be the Gaussian model.\n",
        "\n",
        "The algorithm used in the Gaussian Naive Bayes model assumes that the data follows a normal distribution, because it takes the observation values and finds the probability density of them by plugging them into the equation for a normal distribution. While the training data doesn't necessarily follow a normal distribution (because it is somewhat right-skewed), this appears to be the best assumption for which distribution the data follows."
      ]
    },
    {
      "cell_type": "markdown",
      "metadata": {
        "id": "ubcB_5BTyaUo"
      },
      "source": [
        "# Model Training"
      ]
    },
    {
      "cell_type": "markdown",
      "metadata": {
        "id": "o2mkn3ou1lah"
      },
      "source": [
        "As discussed above, I will train the Gaussian Naive Bayes model using the training data"
      ]
    },
    {
      "cell_type": "code",
      "metadata": {
        "colab": {
          "base_uri": "https://localhost:8080/",
          "height": 281
        },
        "id": "pSfNCpFh18Xu",
        "outputId": "8f2a8f31-ede8-4794-df39-7b0e3fd65692"
      },
      "source": [
        "nb = GaussianNB()\n",
        "train_model(train_data, nb)"
      ],
      "execution_count": null,
      "outputs": [
        {
          "output_type": "display_data",
          "data": {
            "image/png": "[encoded data removed]",
            "text/plain": [
              "<Figure size 1584x288 with 3 Axes>"
            ]
          },
          "metadata": {
            "tags": [],
            "needs_background": "light"
          }
        }
      ]
    },
    {
      "cell_type": "markdown",
      "metadata": {
        "id": "DGzC4bNO2Qjy"
      },
      "source": [
        "Now that the model is trained, it can be used to predict on the test data."
      ]
    },
    {
      "cell_type": "code",
      "metadata": {
        "colab": {
          "base_uri": "https://localhost:8080/"
        },
        "id": "R5VQMvbT2Q2l",
        "outputId": "e3295644-75bb-411d-bc67-7d628380c00f"
      },
      "source": [
        "final_test_X = test_data\n",
        "\n",
        "X = train_data.drop(columns = ['diagnosis'])\n",
        "y = train_data['diagnosis']\n",
        "\n",
        "nb.fit(X, y)\n",
        "predictions = nb.predict(final_test_X)\n",
        "\n",
        "output = pd.DataFrame({'id': np.arange(0, 285), 'diagnosis': predictions})\n",
        "output = output.set_index('id')\n",
        "print(output)\n",
        "output.to_csv('my_submission.csv')"
      ],
      "execution_count": null,
      "outputs": [
        {
          "output_type": "stream",
          "text": [
            "     diagnosis\n",
            "id            \n",
            "0            0\n",
            "1            0\n",
            "2            0\n",
            "3            1\n",
            "4            1\n",
            "..         ...\n",
            "280          0\n",
            "281          1\n",
            "282          0\n",
            "283          0\n",
            "284          1\n",
            "\n",
            "[285 rows x 1 columns]\n"
          ],
          "name": "stdout"
        }
      ]
    }
  ]
}